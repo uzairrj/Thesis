{
 "cells": [
  {
   "cell_type": "code",
   "execution_count": 1,
   "id": "28add48f",
   "metadata": {},
   "outputs": [],
   "source": [
    "path = \"data/german_1/german_1.txt\"\n",
    "output_dir = \"output/\""
   ]
  },
  {
   "cell_type": "code",
   "execution_count": 2,
   "id": "2d361f91",
   "metadata": {},
   "outputs": [],
   "source": [
    "import pandas as pd\n",
    "import numpy as np\n",
    "from tqdm.notebook import tqdm"
   ]
  },
  {
   "cell_type": "code",
   "execution_count": 3,
   "id": "524348ff",
   "metadata": {},
   "outputs": [],
   "source": [
    "df = pd.read_csv(path, sep=';')\n",
    "df.time = pd.to_datetime(df.time)"
   ]
  },
  {
   "cell_type": "code",
   "execution_count": 4,
   "id": "43579af6",
   "metadata": {},
   "outputs": [
    {
     "name": "stdout",
     "output_type": "stream",
     "text": [
      "<class 'pandas.core.frame.DataFrame'>\n",
      "RangeIndex: 1867920 entries, 0 to 1867919\n",
      "Data columns (total 5 columns):\n",
      " #   Column       Dtype         \n",
      "---  ------       -----         \n",
      " 0   tag_id       object        \n",
      " 1   time         datetime64[ns]\n",
      " 2   x            float64       \n",
      " 3   y            float64       \n",
      " 4   description  object        \n",
      "dtypes: datetime64[ns](1), float64(2), object(2)\n",
      "memory usage: 71.3+ MB\n"
     ]
    }
   ],
   "source": [
    "df.info()"
   ]
  },
  {
   "cell_type": "code",
   "execution_count": 5,
   "id": "06965b47",
   "metadata": {},
   "outputs": [
    {
     "data": {
      "text/html": [
       "<div>\n",
       "<style scoped>\n",
       "    .dataframe tbody tr th:only-of-type {\n",
       "        vertical-align: middle;\n",
       "    }\n",
       "\n",
       "    .dataframe tbody tr th {\n",
       "        vertical-align: top;\n",
       "    }\n",
       "\n",
       "    .dataframe thead th {\n",
       "        text-align: right;\n",
       "    }\n",
       "</style>\n",
       "<table border=\"1\" class=\"dataframe\">\n",
       "  <thead>\n",
       "    <tr style=\"text-align: right;\">\n",
       "      <th></th>\n",
       "      <th>tag_id</th>\n",
       "      <th>time</th>\n",
       "      <th>x</th>\n",
       "      <th>y</th>\n",
       "      <th>description</th>\n",
       "    </tr>\n",
       "  </thead>\n",
       "  <tbody>\n",
       "    <tr>\n",
       "      <th>0</th>\n",
       "      <td>0x00205FFF28DB</td>\n",
       "      <td>2019-08-31 19:58:06</td>\n",
       "      <td>39.97</td>\n",
       "      <td>21.80</td>\n",
       "      <td>Cart</td>\n",
       "    </tr>\n",
       "    <tr>\n",
       "      <th>1</th>\n",
       "      <td>0x00205FFF28DB</td>\n",
       "      <td>2019-08-31 19:58:02</td>\n",
       "      <td>40.76</td>\n",
       "      <td>18.68</td>\n",
       "      <td>Cart</td>\n",
       "    </tr>\n",
       "    <tr>\n",
       "      <th>2</th>\n",
       "      <td>0x00205FFF28DB</td>\n",
       "      <td>2019-08-31 19:57:45</td>\n",
       "      <td>40.76</td>\n",
       "      <td>5.42</td>\n",
       "      <td>Cart</td>\n",
       "    </tr>\n",
       "    <tr>\n",
       "      <th>3</th>\n",
       "      <td>0x00205FFF28DB</td>\n",
       "      <td>2019-08-31 19:57:41</td>\n",
       "      <td>40.76</td>\n",
       "      <td>3.39</td>\n",
       "      <td>Cart</td>\n",
       "    </tr>\n",
       "    <tr>\n",
       "      <th>4</th>\n",
       "      <td>0x00205FFF28DB</td>\n",
       "      <td>2019-08-31 19:57:10</td>\n",
       "      <td>40.76</td>\n",
       "      <td>2.75</td>\n",
       "      <td>Cart</td>\n",
       "    </tr>\n",
       "  </tbody>\n",
       "</table>\n",
       "</div>"
      ],
      "text/plain": [
       "           tag_id                time      x      y description\n",
       "0  0x00205FFF28DB 2019-08-31 19:58:06  39.97  21.80        Cart\n",
       "1  0x00205FFF28DB 2019-08-31 19:58:02  40.76  18.68        Cart\n",
       "2  0x00205FFF28DB 2019-08-31 19:57:45  40.76   5.42        Cart\n",
       "3  0x00205FFF28DB 2019-08-31 19:57:41  40.76   3.39        Cart\n",
       "4  0x00205FFF28DB 2019-08-31 19:57:10  40.76   2.75        Cart"
      ]
     },
     "execution_count": 5,
     "metadata": {},
     "output_type": "execute_result"
    }
   ],
   "source": [
    "df.head()"
   ]
  },
  {
   "cell_type": "code",
   "execution_count": 6,
   "id": "9f51ea00",
   "metadata": {},
   "outputs": [
    {
     "data": {
      "text/plain": [
       "376"
      ]
     },
     "execution_count": 6,
     "metadata": {},
     "output_type": "execute_result"
    }
   ],
   "source": [
    "df.duplicated(keep=False).sum()"
   ]
  },
  {
   "cell_type": "code",
   "execution_count": 7,
   "id": "61d31334",
   "metadata": {},
   "outputs": [],
   "source": [
    "df = df[~df.duplicated(keep=\"first\")]"
   ]
  },
  {
   "cell_type": "code",
   "execution_count": 8,
   "id": "281f7334",
   "metadata": {},
   "outputs": [
    {
     "data": {
      "text/plain": [
       "86185"
      ]
     },
     "execution_count": 8,
     "metadata": {},
     "output_type": "execute_result"
    }
   ],
   "source": [
    "df.duplicated(subset=[\"tag_id\",\"time\"],keep=\"first\").sum()"
   ]
  },
  {
   "cell_type": "code",
   "execution_count": 9,
   "id": "8e6f8085",
   "metadata": {},
   "outputs": [],
   "source": [
    "df = df[~df.duplicated(subset=[\"tag_id\",\"time\"],keep=\"first\")]"
   ]
  },
  {
   "cell_type": "code",
   "execution_count": 10,
   "id": "fb95ac14",
   "metadata": {},
   "outputs": [
    {
     "data": {
      "text/plain": [
       "(1781547, 5)"
      ]
     },
     "execution_count": 10,
     "metadata": {},
     "output_type": "execute_result"
    }
   ],
   "source": [
    "df.shape"
   ]
  },
  {
   "cell_type": "code",
   "execution_count": 11,
   "id": "3bfe58aa",
   "metadata": {},
   "outputs": [],
   "source": [
    "df = df.sort_values(by=\"time\")"
   ]
  },
  {
   "cell_type": "markdown",
   "id": "a075a8e3",
   "metadata": {},
   "source": [
    "# Generating Trajectories"
   ]
  },
  {
   "cell_type": "code",
   "execution_count": 21,
   "id": "65693014",
   "metadata": {},
   "outputs": [],
   "source": [
    "'''\n",
    "Generate the  trajectories using the raw data\n",
    "\n",
    "params:\n",
    "Data: Dataframe, Default = None\n",
    "resting_threshold: float, Default = inf, Threshold to determine when to start new trajectory after resting X min.\n",
    "traj_min_len: int, Default = float, Minimum length of trajectories to be considered.\n",
    "\n",
    "Note: The new trajectory start with the new day\n",
    "'''\n",
    "def generateTrajectories(data, resting_threshold = np.inf, traj_min_len = 0):\n",
    "    data = data.sort_values(by=\"time\")\n",
    "    resting_threshold_sec = resting_threshold * 60 #convert minutes to seconds\n",
    "    \n",
    "    traj_id = 1\n",
    "    traj = []\n",
    "    curr_traj = [] #to make the current traj\n",
    "    \n",
    "    for tag_id in tqdm(data.tag_id.unique()):\n",
    "        tag_id_data = data[data.tag_id == tag_id]\n",
    "        \n",
    "        start = True #To check if the new trajectory is starting or not\n",
    "        curr_traj = [{\"tag_id\": tag_id_data.iloc[0][\"tag_id\"], \"time\":  tag_id_data.iloc[0][\"time\"], \"x\":  tag_id_data.iloc[0][\"x\"],\n",
    "                            \"y\":  tag_id_data.iloc[0][\"y\"], \"description\":  tag_id_data.iloc[0][\"description\"], \"traj_id\": traj_id, \"velocity\": (0,0), \"type\": \"start\"}]\n",
    "        \n",
    "        for index in tqdm(range(1, tag_id_data.shape[0],1)):\n",
    "            time_diff = (tag_id_data.iloc[index][\"time\"] - tag_id_data.iloc[index-1][\"time\"]).total_seconds() #time difference\n",
    "            velocity_x = (tag_id_data.iloc[index][\"x\"] -  tag_id_data.iloc[index-1][\"x\"]) / time_diff #calculate the x velocity\n",
    "            velocity_y = (tag_id_data.iloc[index][\"y\"] -  tag_id_data.iloc[index-1][\"y\"]) / time_diff #calculate the y velocity\n",
    "                \n",
    "            if (tag_id_data.iloc[index][\"y\"] < 0 or tag_id_data.iloc[index][\"x\"] < 0 ) or (tag_id_data.iloc[index-1][\"time\"].date() < tag_id_data.iloc[index][\"time\"].date()) or time_diff > resting_threshold_sec:  \n",
    "                curr_traj[-1][\"type\"] = \"end\" #last one to end\n",
    "                if len(curr_traj) >= traj_min_len:\n",
    "                    traj_id += 1 #increment trajectory id\n",
    "                    traj.extend(curr_traj)\n",
    "                    \n",
    "                curr_traj = [{\"tag_id\": tag_id_data.iloc[index][\"tag_id\"], \"time\":  tag_id_data.iloc[index][\"time\"], \"x\":  tag_id_data.iloc[index][\"x\"],\n",
    "                            \"y\":  tag_id_data.iloc[index][\"y\"], \"description\":  tag_id_data.iloc[index][\"description\"], \"traj_id\": traj_id, \"velocity\": (0,0), \"type\": \"start\"}]\n",
    "            else:\n",
    "                curr_traj.append({\"tag_id\": tag_id_data.iloc[index][\"tag_id\"], \"time\":  tag_id_data.iloc[index][\"time\"], \"x\":  tag_id_data.iloc[index][\"x\"],\n",
    "                            \"y\":  tag_id_data.iloc[index][\"y\"], \"description\":  tag_id_data.iloc[index][\"description\"], \"traj_id\": traj_id, \"velocity\": (velocity_x,velocity_y), \n",
    "                             \"type\": \"intermediate\"})\n",
    "        curr_traj[-1][\"type\"] = \"end\" #last one to end\n",
    "        if len(curr_traj) >= traj_min_len:\n",
    "            traj.extend(curr_traj)\n",
    "        \n",
    "    csv = pd.DataFrame.from_dict(traj) #convert the dictionary to dataframe\n",
    "    csv.to_csv(f\"{output_dir}/tajectories_{resting_threshold}mins_{traj_min_len}len.csv\", sep=\";\", index=False) #save the dataframe to file"
   ]
  },
  {
   "cell_type": "code",
   "execution_count": 22,
   "id": "7b261997",
   "metadata": {},
   "outputs": [
    {
     "data": {
      "application/vnd.jupyter.widget-view+json": {
       "model_id": "696ece23795d45af97c0b53fcf020d97",
       "version_major": 2,
       "version_minor": 0
      },
      "text/plain": [
       "  0%|          | 0/43 [00:00<?, ?it/s]"
      ]
     },
     "metadata": {},
     "output_type": "display_data"
    },
    {
     "data": {
      "application/vnd.jupyter.widget-view+json": {
       "model_id": "635ef0d264794f7c8e850dbfd5b85691",
       "version_major": 2,
       "version_minor": 0
      },
      "text/plain": [
       "  0%|          | 0/79813 [00:00<?, ?it/s]"
      ]
     },
     "metadata": {},
     "output_type": "display_data"
    },
    {
     "data": {
      "application/vnd.jupyter.widget-view+json": {
       "model_id": "2f396486149b4ffbba9ac4889f660f6b",
       "version_major": 2,
       "version_minor": 0
      },
      "text/plain": [
       "  0%|          | 0/23868 [00:00<?, ?it/s]"
      ]
     },
     "metadata": {},
     "output_type": "display_data"
    },
    {
     "data": {
      "application/vnd.jupyter.widget-view+json": {
       "model_id": "6175c5e62fa54702ba3671f37f662cce",
       "version_major": 2,
       "version_minor": 0
      },
      "text/plain": [
       "  0%|          | 0/20828 [00:00<?, ?it/s]"
      ]
     },
     "metadata": {},
     "output_type": "display_data"
    },
    {
     "data": {
      "application/vnd.jupyter.widget-view+json": {
       "model_id": "6d636ed4edd547abbb45ce22fa46abac",
       "version_major": 2,
       "version_minor": 0
      },
      "text/plain": [
       "  0%|          | 0/66925 [00:00<?, ?it/s]"
      ]
     },
     "metadata": {},
     "output_type": "display_data"
    },
    {
     "data": {
      "application/vnd.jupyter.widget-view+json": {
       "model_id": "8e959e724e384758bea8d6eb4dfdfccb",
       "version_major": 2,
       "version_minor": 0
      },
      "text/plain": [
       "  0%|          | 0/76526 [00:00<?, ?it/s]"
      ]
     },
     "metadata": {},
     "output_type": "display_data"
    },
    {
     "data": {
      "application/vnd.jupyter.widget-view+json": {
       "model_id": "9e625cbffa5f4a7e8b122837bd224a24",
       "version_major": 2,
       "version_minor": 0
      },
      "text/plain": [
       "  0%|          | 0/78757 [00:00<?, ?it/s]"
      ]
     },
     "metadata": {},
     "output_type": "display_data"
    },
    {
     "data": {
      "application/vnd.jupyter.widget-view+json": {
       "model_id": "1b0fb929aa394d7c84719ad40d6cbc6b",
       "version_major": 2,
       "version_minor": 0
      },
      "text/plain": [
       "  0%|          | 0/43376 [00:00<?, ?it/s]"
      ]
     },
     "metadata": {},
     "output_type": "display_data"
    },
    {
     "data": {
      "application/vnd.jupyter.widget-view+json": {
       "model_id": "d0d9ddb4653a4e3daa012fdc83641b6c",
       "version_major": 2,
       "version_minor": 0
      },
      "text/plain": [
       "  0%|          | 0/26030 [00:00<?, ?it/s]"
      ]
     },
     "metadata": {},
     "output_type": "display_data"
    },
    {
     "data": {
      "application/vnd.jupyter.widget-view+json": {
       "model_id": "95e666d66895430c813abd031837174a",
       "version_major": 2,
       "version_minor": 0
      },
      "text/plain": [
       "  0%|          | 0/63214 [00:00<?, ?it/s]"
      ]
     },
     "metadata": {},
     "output_type": "display_data"
    },
    {
     "data": {
      "application/vnd.jupyter.widget-view+json": {
       "model_id": "51313d8cf5a84e6d809dcb4cb4c01496",
       "version_major": 2,
       "version_minor": 0
      },
      "text/plain": [
       "  0%|          | 0/70375 [00:00<?, ?it/s]"
      ]
     },
     "metadata": {},
     "output_type": "display_data"
    },
    {
     "data": {
      "application/vnd.jupyter.widget-view+json": {
       "model_id": "48f8685b4f274260864cd2f14f4a86fd",
       "version_major": 2,
       "version_minor": 0
      },
      "text/plain": [
       "  0%|          | 0/53583 [00:00<?, ?it/s]"
      ]
     },
     "metadata": {},
     "output_type": "display_data"
    },
    {
     "data": {
      "application/vnd.jupyter.widget-view+json": {
       "model_id": "9cedca4ee9764a708a1fb06562534e30",
       "version_major": 2,
       "version_minor": 0
      },
      "text/plain": [
       "  0%|          | 0/46371 [00:00<?, ?it/s]"
      ]
     },
     "metadata": {},
     "output_type": "display_data"
    },
    {
     "data": {
      "application/vnd.jupyter.widget-view+json": {
       "model_id": "a731f896968c4825b56e9e54289abb41",
       "version_major": 2,
       "version_minor": 0
      },
      "text/plain": [
       "  0%|          | 0/39926 [00:00<?, ?it/s]"
      ]
     },
     "metadata": {},
     "output_type": "display_data"
    },
    {
     "data": {
      "application/vnd.jupyter.widget-view+json": {
       "model_id": "6a667b1824ce406389c8db43e1702a2f",
       "version_major": 2,
       "version_minor": 0
      },
      "text/plain": [
       "  0%|          | 0/65331 [00:00<?, ?it/s]"
      ]
     },
     "metadata": {},
     "output_type": "display_data"
    },
    {
     "data": {
      "application/vnd.jupyter.widget-view+json": {
       "model_id": "ba5c7dd6cc1d421ca76faeaf191ed6e6",
       "version_major": 2,
       "version_minor": 0
      },
      "text/plain": [
       "  0%|          | 0/61787 [00:00<?, ?it/s]"
      ]
     },
     "metadata": {},
     "output_type": "display_data"
    },
    {
     "data": {
      "application/vnd.jupyter.widget-view+json": {
       "model_id": "6bb7336452d34d508eb38e8da0979c31",
       "version_major": 2,
       "version_minor": 0
      },
      "text/plain": [
       "  0%|          | 0/35729 [00:00<?, ?it/s]"
      ]
     },
     "metadata": {},
     "output_type": "display_data"
    },
    {
     "data": {
      "application/vnd.jupyter.widget-view+json": {
       "model_id": "75575ea60b0e4c1bb8d65f059ebfe1f5",
       "version_major": 2,
       "version_minor": 0
      },
      "text/plain": [
       "  0%|          | 0/62975 [00:00<?, ?it/s]"
      ]
     },
     "metadata": {},
     "output_type": "display_data"
    },
    {
     "data": {
      "application/vnd.jupyter.widget-view+json": {
       "model_id": "d12837b3fb534892ab396dcee8670ce6",
       "version_major": 2,
       "version_minor": 0
      },
      "text/plain": [
       "  0%|          | 0/81205 [00:00<?, ?it/s]"
      ]
     },
     "metadata": {},
     "output_type": "display_data"
    },
    {
     "data": {
      "application/vnd.jupyter.widget-view+json": {
       "model_id": "c447a9b801654570a7db98391480d1a3",
       "version_major": 2,
       "version_minor": 0
      },
      "text/plain": [
       "  0%|          | 0/60061 [00:00<?, ?it/s]"
      ]
     },
     "metadata": {},
     "output_type": "display_data"
    },
    {
     "data": {
      "application/vnd.jupyter.widget-view+json": {
       "model_id": "11c95b7b1784431e8de7d306ad3e68c7",
       "version_major": 2,
       "version_minor": 0
      },
      "text/plain": [
       "  0%|          | 0/12494 [00:00<?, ?it/s]"
      ]
     },
     "metadata": {},
     "output_type": "display_data"
    },
    {
     "data": {
      "application/vnd.jupyter.widget-view+json": {
       "model_id": "ca7f7c33906f4ff498e10ed5214ec18e",
       "version_major": 2,
       "version_minor": 0
      },
      "text/plain": [
       "  0%|          | 0/16287 [00:00<?, ?it/s]"
      ]
     },
     "metadata": {},
     "output_type": "display_data"
    },
    {
     "data": {
      "application/vnd.jupyter.widget-view+json": {
       "model_id": "d2d2059c42904a318be103de934873aa",
       "version_major": 2,
       "version_minor": 0
      },
      "text/plain": [
       "  0%|          | 0/45317 [00:00<?, ?it/s]"
      ]
     },
     "metadata": {},
     "output_type": "display_data"
    },
    {
     "data": {
      "application/vnd.jupyter.widget-view+json": {
       "model_id": "cffbbafde7fe48b388be1a01562819aa",
       "version_major": 2,
       "version_minor": 0
      },
      "text/plain": [
       "  0%|          | 0/65556 [00:00<?, ?it/s]"
      ]
     },
     "metadata": {},
     "output_type": "display_data"
    },
    {
     "data": {
      "application/vnd.jupyter.widget-view+json": {
       "model_id": "83969b89b8a04d86bbefabd4546f2ef5",
       "version_major": 2,
       "version_minor": 0
      },
      "text/plain": [
       "  0%|          | 0/67749 [00:00<?, ?it/s]"
      ]
     },
     "metadata": {},
     "output_type": "display_data"
    },
    {
     "data": {
      "application/vnd.jupyter.widget-view+json": {
       "model_id": "727aa2e9fe584e25865d049777e00d0b",
       "version_major": 2,
       "version_minor": 0
      },
      "text/plain": [
       "  0%|          | 0/25570 [00:00<?, ?it/s]"
      ]
     },
     "metadata": {},
     "output_type": "display_data"
    },
    {
     "data": {
      "application/vnd.jupyter.widget-view+json": {
       "model_id": "b318eb43f4d944b6968a888f172701ef",
       "version_major": 2,
       "version_minor": 0
      },
      "text/plain": [
       "  0%|          | 0/23750 [00:00<?, ?it/s]"
      ]
     },
     "metadata": {},
     "output_type": "display_data"
    },
    {
     "data": {
      "application/vnd.jupyter.widget-view+json": {
       "model_id": "afe1eda53b8649a7ab5ac00a4f601e23",
       "version_major": 2,
       "version_minor": 0
      },
      "text/plain": [
       "  0%|          | 0/11553 [00:00<?, ?it/s]"
      ]
     },
     "metadata": {},
     "output_type": "display_data"
    },
    {
     "data": {
      "application/vnd.jupyter.widget-view+json": {
       "model_id": "2076955685f34f50b93cbcbd93c5251e",
       "version_major": 2,
       "version_minor": 0
      },
      "text/plain": [
       "  0%|          | 0/52051 [00:00<?, ?it/s]"
      ]
     },
     "metadata": {},
     "output_type": "display_data"
    },
    {
     "data": {
      "application/vnd.jupyter.widget-view+json": {
       "model_id": "6859802a3ed1452da13be45c7850ccd2",
       "version_major": 2,
       "version_minor": 0
      },
      "text/plain": [
       "  0%|          | 0/40028 [00:00<?, ?it/s]"
      ]
     },
     "metadata": {},
     "output_type": "display_data"
    },
    {
     "data": {
      "application/vnd.jupyter.widget-view+json": {
       "model_id": "87bf03bf902b4de990352dfb01ba138e",
       "version_major": 2,
       "version_minor": 0
      },
      "text/plain": [
       "  0%|          | 0/12560 [00:00<?, ?it/s]"
      ]
     },
     "metadata": {},
     "output_type": "display_data"
    },
    {
     "data": {
      "application/vnd.jupyter.widget-view+json": {
       "model_id": "0add1b09b33a49f3ad3b7c734bfcb826",
       "version_major": 2,
       "version_minor": 0
      },
      "text/plain": [
       "  0%|          | 0/25664 [00:00<?, ?it/s]"
      ]
     },
     "metadata": {},
     "output_type": "display_data"
    },
    {
     "data": {
      "application/vnd.jupyter.widget-view+json": {
       "model_id": "3b61cb7c75ed42f1bf3821ca87e6c235",
       "version_major": 2,
       "version_minor": 0
      },
      "text/plain": [
       "  0%|          | 0/24877 [00:00<?, ?it/s]"
      ]
     },
     "metadata": {},
     "output_type": "display_data"
    },
    {
     "data": {
      "application/vnd.jupyter.widget-view+json": {
       "model_id": "daf8c9ced6634e4f83f7dd8754358ed3",
       "version_major": 2,
       "version_minor": 0
      },
      "text/plain": [
       "  0%|          | 0/671 [00:00<?, ?it/s]"
      ]
     },
     "metadata": {},
     "output_type": "display_data"
    },
    {
     "data": {
      "application/vnd.jupyter.widget-view+json": {
       "model_id": "9ca57d9359cd466f927a80f2caf3e6f9",
       "version_major": 2,
       "version_minor": 0
      },
      "text/plain": [
       "  0%|          | 0/36956 [00:00<?, ?it/s]"
      ]
     },
     "metadata": {},
     "output_type": "display_data"
    },
    {
     "data": {
      "application/vnd.jupyter.widget-view+json": {
       "model_id": "ac65cc3c106e43e58bcb0665175d09ad",
       "version_major": 2,
       "version_minor": 0
      },
      "text/plain": [
       "  0%|          | 0/41311 [00:00<?, ?it/s]"
      ]
     },
     "metadata": {},
     "output_type": "display_data"
    },
    {
     "data": {
      "application/vnd.jupyter.widget-view+json": {
       "model_id": "41d5f470cf35442e8eed6a605f0415e6",
       "version_major": 2,
       "version_minor": 0
      },
      "text/plain": [
       "  0%|          | 0/366 [00:00<?, ?it/s]"
      ]
     },
     "metadata": {},
     "output_type": "display_data"
    },
    {
     "data": {
      "application/vnd.jupyter.widget-view+json": {
       "model_id": "233003f13ad84fc9933105a1c5e5b7c3",
       "version_major": 2,
       "version_minor": 0
      },
      "text/plain": [
       "  0%|          | 0/68373 [00:00<?, ?it/s]"
      ]
     },
     "metadata": {},
     "output_type": "display_data"
    },
    {
     "data": {
      "application/vnd.jupyter.widget-view+json": {
       "model_id": "48dc1f10b9c3487da58df27550e4f2f0",
       "version_major": 2,
       "version_minor": 0
      },
      "text/plain": [
       "  0%|          | 0/66051 [00:00<?, ?it/s]"
      ]
     },
     "metadata": {},
     "output_type": "display_data"
    },
    {
     "data": {
      "application/vnd.jupyter.widget-view+json": {
       "model_id": "61f982b4bf474b19a32070684ff1dacb",
       "version_major": 2,
       "version_minor": 0
      },
      "text/plain": [
       "  0%|          | 0/31941 [00:00<?, ?it/s]"
      ]
     },
     "metadata": {},
     "output_type": "display_data"
    },
    {
     "data": {
      "application/vnd.jupyter.widget-view+json": {
       "model_id": "94721cc5ef094e5cab9d7cb8adcf26a7",
       "version_major": 2,
       "version_minor": 0
      },
      "text/plain": [
       "  0%|          | 0/52589 [00:00<?, ?it/s]"
      ]
     },
     "metadata": {},
     "output_type": "display_data"
    },
    {
     "data": {
      "application/vnd.jupyter.widget-view+json": {
       "model_id": "2e386d30df704d24ab67b4a796c46add",
       "version_major": 2,
       "version_minor": 0
      },
      "text/plain": [
       "  0%|          | 0/184 [00:00<?, ?it/s]"
      ]
     },
     "metadata": {},
     "output_type": "display_data"
    },
    {
     "data": {
      "application/vnd.jupyter.widget-view+json": {
       "model_id": "bba3226d94ca4185a47716b8c341acc0",
       "version_major": 2,
       "version_minor": 0
      },
      "text/plain": [
       "  0%|          | 0/405 [00:00<?, ?it/s]"
      ]
     },
     "metadata": {},
     "output_type": "display_data"
    },
    {
     "data": {
      "application/vnd.jupyter.widget-view+json": {
       "model_id": "ea89cfb3f64d4b59b357f0fc09222215",
       "version_major": 2,
       "version_minor": 0
      },
      "text/plain": [
       "  0%|          | 0/2521 [00:00<?, ?it/s]"
      ]
     },
     "metadata": {},
     "output_type": "display_data"
    }
   ],
   "source": [
    "generateTrajectories(df, 0.0833333, 20) #5 sec"
   ]
  },
  {
   "cell_type": "code",
   "execution_count": 65,
   "id": "428daf42",
   "metadata": {},
   "outputs": [],
   "source": [
    "def interpolateData(df):\n",
    "    df.time = pd.to_datetime(df.time)\n",
    "    df = df.set_index(\"time\")\n",
    "    x = df.x.resample(\"1s\").mean()\n",
    "    y = df.y.resample(\"1s\").mean()\n",
    "    t = df.type = df.type.resample(\"1s\").last()\n",
    "    df = df.resample(\"1s\").ffill()\n",
    "    df.x = x\n",
    "    df.y = y\n",
    "    df.type = t\n",
    "    df.type = df.type.fillna(\"intermediate\")\n",
    "    df = df.interpolate()\n",
    "    return df.reset_index()"
   ]
  },
  {
   "cell_type": "code",
   "execution_count": 50,
   "id": "198f5e60",
   "metadata": {},
   "outputs": [],
   "source": [
    "data = pd.read_csv(\"output/tajectories_0.0833333mins_20len.csv\", sep=\";\")"
   ]
  },
  {
   "cell_type": "code",
   "execution_count": 74,
   "id": "b1b4e7b9",
   "metadata": {},
   "outputs": [
    {
     "data": {
      "application/vnd.jupyter.widget-view+json": {
       "model_id": "50e0ff68f13240e6ad932540c434274e",
       "version_major": 2,
       "version_minor": 0
      },
      "text/plain": [
       "  0%|          | 0/16560 [00:00<?, ?it/s]"
      ]
     },
     "metadata": {},
     "output_type": "display_data"
    }
   ],
   "source": [
    "pd.options.mode.chained_assignment = None\n",
    "uniqueTrajectories = data.traj_id.unique()\n",
    "interpolatedDataframe = pd.DataFrame(columns=data.columns)\n",
    "for traj_id in tqdm(uniqueTrajectories[:]):\n",
    "    interpolatedDataframe = pd.concat([interpolatedDataframe, interpolateData(data[data.traj_id == traj_id])],axis=0)"
   ]
  },
  {
   "cell_type": "code",
   "execution_count": 75,
   "id": "9d6fb4ed",
   "metadata": {},
   "outputs": [
    {
     "data": {
      "text/html": [
       "<div>\n",
       "<style scoped>\n",
       "    .dataframe tbody tr th:only-of-type {\n",
       "        vertical-align: middle;\n",
       "    }\n",
       "\n",
       "    .dataframe tbody tr th {\n",
       "        vertical-align: top;\n",
       "    }\n",
       "\n",
       "    .dataframe thead th {\n",
       "        text-align: right;\n",
       "    }\n",
       "</style>\n",
       "<table border=\"1\" class=\"dataframe\">\n",
       "  <thead>\n",
       "    <tr style=\"text-align: right;\">\n",
       "      <th></th>\n",
       "      <th>tag_id</th>\n",
       "      <th>time</th>\n",
       "      <th>x</th>\n",
       "      <th>y</th>\n",
       "      <th>description</th>\n",
       "      <th>traj_id</th>\n",
       "      <th>velocity</th>\n",
       "      <th>type</th>\n",
       "    </tr>\n",
       "  </thead>\n",
       "  <tbody>\n",
       "    <tr>\n",
       "      <th>0</th>\n",
       "      <td>0x002060000F45</td>\n",
       "      <td>2019-08-01 08:00:00</td>\n",
       "      <td>8.5600</td>\n",
       "      <td>10.4400</td>\n",
       "      <td>Cart</td>\n",
       "      <td>1</td>\n",
       "      <td>(0, 0)</td>\n",
       "      <td>start</td>\n",
       "    </tr>\n",
       "    <tr>\n",
       "      <th>1</th>\n",
       "      <td>0x002060000F45</td>\n",
       "      <td>2019-08-01 08:00:01</td>\n",
       "      <td>7.5100</td>\n",
       "      <td>10.5050</td>\n",
       "      <td>Cart</td>\n",
       "      <td>1</td>\n",
       "      <td>(0, 0)</td>\n",
       "      <td>intermediate</td>\n",
       "    </tr>\n",
       "    <tr>\n",
       "      <th>2</th>\n",
       "      <td>0x002060000F45</td>\n",
       "      <td>2019-08-01 08:00:02</td>\n",
       "      <td>6.4600</td>\n",
       "      <td>10.5700</td>\n",
       "      <td>Cart</td>\n",
       "      <td>1</td>\n",
       "      <td>(-1.0500000000000003, 0.06500000000000039)</td>\n",
       "      <td>intermediate</td>\n",
       "    </tr>\n",
       "    <tr>\n",
       "      <th>3</th>\n",
       "      <td>0x002060000F45</td>\n",
       "      <td>2019-08-01 08:00:03</td>\n",
       "      <td>5.7900</td>\n",
       "      <td>10.5600</td>\n",
       "      <td>Cart</td>\n",
       "      <td>1</td>\n",
       "      <td>(-0.6699999999999999, -0.009999999999999787)</td>\n",
       "      <td>intermediate</td>\n",
       "    </tr>\n",
       "    <tr>\n",
       "      <th>4</th>\n",
       "      <td>0x002060000F45</td>\n",
       "      <td>2019-08-01 08:00:04</td>\n",
       "      <td>4.8650</td>\n",
       "      <td>10.5450</td>\n",
       "      <td>Cart</td>\n",
       "      <td>1</td>\n",
       "      <td>(-0.6699999999999999, -0.009999999999999787)</td>\n",
       "      <td>intermediate</td>\n",
       "    </tr>\n",
       "    <tr>\n",
       "      <th>...</th>\n",
       "      <td>...</td>\n",
       "      <td>...</td>\n",
       "      <td>...</td>\n",
       "      <td>...</td>\n",
       "      <td>...</td>\n",
       "      <td>...</td>\n",
       "      <td>...</td>\n",
       "      <td>...</td>\n",
       "    </tr>\n",
       "    <tr>\n",
       "      <th>27</th>\n",
       "      <td>0x002060003578</td>\n",
       "      <td>2019-08-31 10:10:12</td>\n",
       "      <td>15.2850</td>\n",
       "      <td>19.3450</td>\n",
       "      <td>Cart</td>\n",
       "      <td>16560</td>\n",
       "      <td>(-0.4850000000000003, -0.13000000000000078)</td>\n",
       "      <td>intermediate</td>\n",
       "    </tr>\n",
       "    <tr>\n",
       "      <th>28</th>\n",
       "      <td>0x002060003578</td>\n",
       "      <td>2019-08-31 10:10:13</td>\n",
       "      <td>15.1925</td>\n",
       "      <td>19.2825</td>\n",
       "      <td>Cart</td>\n",
       "      <td>16560</td>\n",
       "      <td>(-0.4850000000000003, -0.13000000000000078)</td>\n",
       "      <td>intermediate</td>\n",
       "    </tr>\n",
       "    <tr>\n",
       "      <th>29</th>\n",
       "      <td>0x002060003578</td>\n",
       "      <td>2019-08-31 10:10:14</td>\n",
       "      <td>15.1000</td>\n",
       "      <td>19.2200</td>\n",
       "      <td>Cart</td>\n",
       "      <td>16560</td>\n",
       "      <td>(-0.09250000000000025, -0.0625)</td>\n",
       "      <td>intermediate</td>\n",
       "    </tr>\n",
       "    <tr>\n",
       "      <th>30</th>\n",
       "      <td>0x002060003578</td>\n",
       "      <td>2019-08-31 10:10:15</td>\n",
       "      <td>15.2100</td>\n",
       "      <td>19.1450</td>\n",
       "      <td>Cart</td>\n",
       "      <td>16560</td>\n",
       "      <td>(-0.09250000000000025, -0.0625)</td>\n",
       "      <td>intermediate</td>\n",
       "    </tr>\n",
       "    <tr>\n",
       "      <th>31</th>\n",
       "      <td>0x002060003578</td>\n",
       "      <td>2019-08-31 10:10:16</td>\n",
       "      <td>15.3200</td>\n",
       "      <td>19.0700</td>\n",
       "      <td>Cart</td>\n",
       "      <td>16560</td>\n",
       "      <td>(0.11000000000000032, -0.07499999999999929)</td>\n",
       "      <td>end</td>\n",
       "    </tr>\n",
       "  </tbody>\n",
       "</table>\n",
       "<p>801413 rows × 8 columns</p>\n",
       "</div>"
      ],
      "text/plain": [
       "            tag_id                time        x        y description traj_id  \\\n",
       "0   0x002060000F45 2019-08-01 08:00:00   8.5600  10.4400        Cart       1   \n",
       "1   0x002060000F45 2019-08-01 08:00:01   7.5100  10.5050        Cart       1   \n",
       "2   0x002060000F45 2019-08-01 08:00:02   6.4600  10.5700        Cart       1   \n",
       "3   0x002060000F45 2019-08-01 08:00:03   5.7900  10.5600        Cart       1   \n",
       "4   0x002060000F45 2019-08-01 08:00:04   4.8650  10.5450        Cart       1   \n",
       "..             ...                 ...      ...      ...         ...     ...   \n",
       "27  0x002060003578 2019-08-31 10:10:12  15.2850  19.3450        Cart   16560   \n",
       "28  0x002060003578 2019-08-31 10:10:13  15.1925  19.2825        Cart   16560   \n",
       "29  0x002060003578 2019-08-31 10:10:14  15.1000  19.2200        Cart   16560   \n",
       "30  0x002060003578 2019-08-31 10:10:15  15.2100  19.1450        Cart   16560   \n",
       "31  0x002060003578 2019-08-31 10:10:16  15.3200  19.0700        Cart   16560   \n",
       "\n",
       "                                        velocity          type  \n",
       "0                                         (0, 0)         start  \n",
       "1                                         (0, 0)  intermediate  \n",
       "2     (-1.0500000000000003, 0.06500000000000039)  intermediate  \n",
       "3   (-0.6699999999999999, -0.009999999999999787)  intermediate  \n",
       "4   (-0.6699999999999999, -0.009999999999999787)  intermediate  \n",
       "..                                           ...           ...  \n",
       "27   (-0.4850000000000003, -0.13000000000000078)  intermediate  \n",
       "28   (-0.4850000000000003, -0.13000000000000078)  intermediate  \n",
       "29               (-0.09250000000000025, -0.0625)  intermediate  \n",
       "30               (-0.09250000000000025, -0.0625)  intermediate  \n",
       "31   (0.11000000000000032, -0.07499999999999929)           end  \n",
       "\n",
       "[801413 rows x 8 columns]"
      ]
     },
     "execution_count": 75,
     "metadata": {},
     "output_type": "execute_result"
    }
   ],
   "source": [
    "interpolatedDataframe"
   ]
  },
  {
   "cell_type": "code",
   "execution_count": 76,
   "id": "f0e475c9",
   "metadata": {},
   "outputs": [],
   "source": [
    "temp = interpolatedDataframe.sort_values(by=\"time\")\n",
    "temp.to_csv(\"output/resampling_upscale_0.0833333mins_20len.csv\",sep=\";\", index=False)"
   ]
  },
  {
   "cell_type": "code",
   "execution_count": 3,
   "id": "2be3580b",
   "metadata": {},
   "outputs": [],
   "source": [
    "data = pd.read_csv(\"output/resampling_upscale_0.0833333mins_20len.csv\",sep=\";\")"
   ]
  },
  {
   "cell_type": "code",
   "execution_count": 10,
   "id": "48a4a015",
   "metadata": {},
   "outputs": [],
   "source": [
    "labels, idx = pd.factorize(data.time)"
   ]
  },
  {
   "cell_type": "code",
   "execution_count": 11,
   "id": "cae0589b",
   "metadata": {},
   "outputs": [],
   "source": [
    "newDataframe = pd.DataFrame(columns=[\"Frame\", \"Ped_ID\", \"x\",\"y\"])"
   ]
  },
  {
   "cell_type": "code",
   "execution_count": 12,
   "id": "39a03558",
   "metadata": {},
   "outputs": [],
   "source": [
    "newDataframe.Frame = labels"
   ]
  },
  {
   "cell_type": "code",
   "execution_count": 13,
   "id": "251a71e1",
   "metadata": {},
   "outputs": [],
   "source": [
    "newDataframe.Ped_ID = data.traj_id"
   ]
  },
  {
   "cell_type": "code",
   "execution_count": 14,
   "id": "e8ff2f31",
   "metadata": {},
   "outputs": [],
   "source": [
    "newDataframe.x = data.x\n",
    "newDataframe.y = data.y"
   ]
  },
  {
   "cell_type": "code",
   "execution_count": 17,
   "id": "79bd1b55",
   "metadata": {},
   "outputs": [],
   "source": [
    "newDataframe = newDataframe.sort_values(by=\"Frame\")"
   ]
  },
  {
   "cell_type": "code",
   "execution_count": 19,
   "id": "3238ff9e",
   "metadata": {},
   "outputs": [],
   "source": [
    "newDataframe.to_csv(\"output/resampling_upscale_0.0833333mins_20len_FORMATED.csv\",header=False, index=False, sep=\"\\t\")"
   ]
  },
  {
   "cell_type": "code",
   "execution_count": 20,
   "id": "600abe4a",
   "metadata": {},
   "outputs": [
    {
     "data": {
      "text/html": [
       "<div>\n",
       "<style scoped>\n",
       "    .dataframe tbody tr th:only-of-type {\n",
       "        vertical-align: middle;\n",
       "    }\n",
       "\n",
       "    .dataframe tbody tr th {\n",
       "        vertical-align: top;\n",
       "    }\n",
       "\n",
       "    .dataframe thead th {\n",
       "        text-align: right;\n",
       "    }\n",
       "</style>\n",
       "<table border=\"1\" class=\"dataframe\">\n",
       "  <thead>\n",
       "    <tr style=\"text-align: right;\">\n",
       "      <th></th>\n",
       "      <th>Frame</th>\n",
       "      <th>Ped_ID</th>\n",
       "      <th>x</th>\n",
       "      <th>y</th>\n",
       "    </tr>\n",
       "  </thead>\n",
       "  <tbody>\n",
       "    <tr>\n",
       "      <th>0</th>\n",
       "      <td>0</td>\n",
       "      <td>1</td>\n",
       "      <td>8.560</td>\n",
       "      <td>10.440</td>\n",
       "    </tr>\n",
       "    <tr>\n",
       "      <th>1</th>\n",
       "      <td>1</td>\n",
       "      <td>1</td>\n",
       "      <td>7.510</td>\n",
       "      <td>10.505</td>\n",
       "    </tr>\n",
       "    <tr>\n",
       "      <th>2</th>\n",
       "      <td>2</td>\n",
       "      <td>1</td>\n",
       "      <td>6.460</td>\n",
       "      <td>10.570</td>\n",
       "    </tr>\n",
       "    <tr>\n",
       "      <th>3</th>\n",
       "      <td>3</td>\n",
       "      <td>1</td>\n",
       "      <td>5.790</td>\n",
       "      <td>10.560</td>\n",
       "    </tr>\n",
       "    <tr>\n",
       "      <th>4</th>\n",
       "      <td>4</td>\n",
       "      <td>1</td>\n",
       "      <td>4.865</td>\n",
       "      <td>10.545</td>\n",
       "    </tr>\n",
       "    <tr>\n",
       "      <th>...</th>\n",
       "      <td>...</td>\n",
       "      <td>...</td>\n",
       "      <td>...</td>\n",
       "      <td>...</td>\n",
       "    </tr>\n",
       "    <tr>\n",
       "      <th>801408</th>\n",
       "      <td>562304</td>\n",
       "      <td>15795</td>\n",
       "      <td>26.060</td>\n",
       "      <td>11.440</td>\n",
       "    </tr>\n",
       "    <tr>\n",
       "      <th>801409</th>\n",
       "      <td>562305</td>\n",
       "      <td>15795</td>\n",
       "      <td>27.110</td>\n",
       "      <td>11.800</td>\n",
       "    </tr>\n",
       "    <tr>\n",
       "      <th>801410</th>\n",
       "      <td>562306</td>\n",
       "      <td>15795</td>\n",
       "      <td>28.130</td>\n",
       "      <td>11.330</td>\n",
       "    </tr>\n",
       "    <tr>\n",
       "      <th>801411</th>\n",
       "      <td>562307</td>\n",
       "      <td>15795</td>\n",
       "      <td>28.575</td>\n",
       "      <td>11.290</td>\n",
       "    </tr>\n",
       "    <tr>\n",
       "      <th>801412</th>\n",
       "      <td>562308</td>\n",
       "      <td>15795</td>\n",
       "      <td>29.020</td>\n",
       "      <td>11.250</td>\n",
       "    </tr>\n",
       "  </tbody>\n",
       "</table>\n",
       "<p>801413 rows × 4 columns</p>\n",
       "</div>"
      ],
      "text/plain": [
       "         Frame  Ped_ID       x       y\n",
       "0            0       1   8.560  10.440\n",
       "1            1       1   7.510  10.505\n",
       "2            2       1   6.460  10.570\n",
       "3            3       1   5.790  10.560\n",
       "4            4       1   4.865  10.545\n",
       "...        ...     ...     ...     ...\n",
       "801408  562304   15795  26.060  11.440\n",
       "801409  562305   15795  27.110  11.800\n",
       "801410  562306   15795  28.130  11.330\n",
       "801411  562307   15795  28.575  11.290\n",
       "801412  562308   15795  29.020  11.250\n",
       "\n",
       "[801413 rows x 4 columns]"
      ]
     },
     "execution_count": 20,
     "metadata": {},
     "output_type": "execute_result"
    }
   ],
   "source": [
    "newDataframe"
   ]
  },
  {
   "cell_type": "code",
   "execution_count": 35,
   "id": "556135d8",
   "metadata": {},
   "outputs": [],
   "source": [
    "filtered_data = newDataframe.groupby(by=\"Frame\").filter(lambda x: x.Frame.count()>1)"
   ]
  },
  {
   "cell_type": "code",
   "execution_count": 37,
   "id": "97ac7d88",
   "metadata": {},
   "outputs": [],
   "source": [
    "filtered_data.to_csv(\"output/resampling_upscale_0.0833333mins_20len_FORMATED_FILTERED.csv\",header=False, index=False, sep=\"\\t\")"
   ]
  },
  {
   "cell_type": "code",
   "execution_count": null,
   "id": "b92db04b",
   "metadata": {},
   "outputs": [],
   "source": []
  }
 ],
 "metadata": {
  "kernelspec": {
   "display_name": "env",
   "language": "python",
   "name": "env"
  },
  "language_info": {
   "codemirror_mode": {
    "name": "ipython",
    "version": 3
   },
   "file_extension": ".py",
   "mimetype": "text/x-python",
   "name": "python",
   "nbconvert_exporter": "python",
   "pygments_lexer": "ipython3",
   "version": "3.10.1"
  }
 },
 "nbformat": 4,
 "nbformat_minor": 5
}
