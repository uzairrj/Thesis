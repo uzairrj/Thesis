{
 "cells": [
  {
   "cell_type": "code",
   "execution_count": 6,
   "id": "abbf846d",
   "metadata": {},
   "outputs": [],
   "source": [
    "class STGNode(object):\n",
    "    def __init__(self, node_name, node_type):\n",
    "        self.name = node_name\n",
    "        self.type = node_type\n",
    "    \n",
    "    \n",
    "    def __eq__(self, other):\n",
    "        return (isinstance(other, self.__class__) \n",
    "                and self.name == other.name \n",
    "                and self.type == other.type)\n",
    "\n",
    "    \n",
    "    def __ne__(self, other):\n",
    "        return not self.__eq__(other)\n",
    "\n",
    "    \n",
    "    def __hash__(self):\n",
    "        return hash((self.name, self.type))\n",
    "\n",
    "    \n",
    "    def __repr__(self):\n",
    "        type_str = self.type.replace(' ', '')\n",
    "        name_str = self.name.replace(' ', '').replace(\"'\", \"\")\n",
    "        return type_str + \"/\" + name_str\n",
    "\n",
    "    \n",
    "def convert_to_label_node(node):\n",
    "    return STGNode(node.name + '_label', node.type)\n",
    "\n",
    "\n",
    "def convert_from_label_node(node):\n",
    "    return STGNode(node.name[:-6], node.type)"
   ]
  },
  {
   "cell_type": "code",
   "execution_count": 7,
   "id": "d87f28bb",
   "metadata": {},
   "outputs": [
    {
     "ename": "ModuleNotFoundError",
     "evalue": "No module named 'stg_node'",
     "output_type": "error",
     "traceback": [
      "\u001b[1;31m---------------------------------------------------------------------------\u001b[0m",
      "\u001b[1;31mModuleNotFoundError\u001b[0m                       Traceback (most recent call last)",
      "Cell \u001b[1;32mIn[7], line 4\u001b[0m\n\u001b[0;32m      1\u001b[0m \u001b[38;5;28;01mimport\u001b[39;00m \u001b[38;5;21;01mpickle\u001b[39;00m\n\u001b[0;32m      3\u001b[0m \u001b[38;5;28;01mwith\u001b[39;00m \u001b[38;5;28mopen\u001b[39m(\u001b[38;5;124m'\u001b[39m\u001b[38;5;124meth_train.pkl\u001b[39m\u001b[38;5;124m'\u001b[39m, \u001b[38;5;124m'\u001b[39m\u001b[38;5;124mrb\u001b[39m\u001b[38;5;124m'\u001b[39m) \u001b[38;5;28;01mas\u001b[39;00m f:\n\u001b[1;32m----> 4\u001b[0m     data \u001b[38;5;241m=\u001b[39m \u001b[43mpickle\u001b[49m\u001b[38;5;241;43m.\u001b[39;49m\u001b[43mload\u001b[49m\u001b[43m(\u001b[49m\u001b[43mf\u001b[49m\u001b[43m)\u001b[49m\n",
      "\u001b[1;31mModuleNotFoundError\u001b[0m: No module named 'stg_node'"
     ]
    }
   ],
   "source": [
    "import pickle\n",
    "\n",
    "with open('eth_train.pkl', 'rb') as f:\n",
    "    data = pickle.load(f)"
   ]
  },
  {
   "cell_type": "code",
   "execution_count": null,
   "id": "12ed2416",
   "metadata": {},
   "outputs": [],
   "source": []
  }
 ],
 "metadata": {
  "kernelspec": {
   "display_name": "Python 3 (ipykernel)",
   "language": "python",
   "name": "python3"
  },
  "language_info": {
   "codemirror_mode": {
    "name": "ipython",
    "version": 3
   },
   "file_extension": ".py",
   "mimetype": "text/x-python",
   "name": "python",
   "nbconvert_exporter": "python",
   "pygments_lexer": "ipython3",
   "version": "3.10.1"
  }
 },
 "nbformat": 4,
 "nbformat_minor": 5
}
