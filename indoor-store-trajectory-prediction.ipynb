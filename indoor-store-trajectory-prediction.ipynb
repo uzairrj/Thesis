{
 "cells": [
  {
   "cell_type": "markdown",
   "metadata": {
    "id": "oxKP-T5YFn5k"
   },
   "source": [
    "Dataset contains 4 folder each containing .svg file of the map and a .txt file which contains the data of the trajectories. The data consists of tag_id in alphanumeric format, date and time in the format \"YYYY-MM-DD HH:MM:SS\", x coordinate value upto decimal, y coordinate value upto second decimal, description of the tag."
   ]
  },
  {
   "cell_type": "markdown",
   "metadata": {
    "id": "61B2KwK8gAzm"
   },
   "source": [
    "Path to the dataset is set here"
   ]
  },
  {
   "cell_type": "code",
   "execution_count": null,
   "metadata": {
    "execution": {
     "iopub.execute_input": "2023-03-26T14:46:34.296615Z",
     "iopub.status.busy": "2023-03-26T14:46:34.296040Z",
     "iopub.status.idle": "2023-03-26T14:46:34.303774Z",
     "shell.execute_reply": "2023-03-26T14:46:34.302127Z",
     "shell.execute_reply.started": "2023-03-26T14:46:34.296575Z"
    },
    "id": "B5hnPjjOLgz_"
   },
   "outputs": [],
   "source": [
    "path = \"data/german_1/german_1.txt\"\n",
    "output_dir = \"output/\"\n",
    "path_new = \"output/german_1_new.txt\"\n",
    "path_new_without_rest = \"output/german_1_new_without_rest.txt\""
   ]
  },
  {
   "cell_type": "code",
   "execution_count": null,
   "metadata": {
    "execution": {
     "iopub.execute_input": "2023-03-26T14:46:34.306127Z",
     "iopub.status.busy": "2023-03-26T14:46:34.305752Z",
     "iopub.status.idle": "2023-03-26T14:46:41.075211Z",
     "shell.execute_reply": "2023-03-26T14:46:41.073236Z",
     "shell.execute_reply.started": "2023-03-26T14:46:34.306084Z"
    },
    "id": "P585Pn6_azzi"
   },
   "outputs": [],
   "source": [
    "# Importing libraries\n",
    "\n",
    "import pandas as pd\n",
    "import numpy as np\n",
    "from matplotlib import pyplot as plt\n",
    "import plotly.express as px\n",
    "import seaborn as sns\n",
    "from tqdm.notebook import tqdm\n",
    "from matplotlib.pyplot import figure\n",
    "figure(figsize=(18, 12), dpi=100)\n",
    "import matplotlib.pyplot as plt\n",
    "import matplotlib.image as mpimg\n",
    "from datetime import date\n",
    "# reading data\n",
    "data = pd.read_csv(path, sep=\";\")"
   ]
  },
  {
   "cell_type": "code",
   "execution_count": null,
   "metadata": {
    "execution": {
     "iopub.execute_input": "2023-03-26T14:46:41.078417Z",
     "iopub.status.busy": "2023-03-26T14:46:41.077873Z",
     "iopub.status.idle": "2023-03-26T14:46:41.086659Z",
     "shell.execute_reply": "2023-03-26T14:46:41.085218Z",
     "shell.execute_reply.started": "2023-03-26T14:46:41.078365Z"
    }
   },
   "outputs": [],
   "source": [
    "data.shape"
   ]
  },
  {
   "cell_type": "code",
   "execution_count": null,
   "metadata": {
    "execution": {
     "iopub.execute_input": "2023-03-26T14:46:41.090827Z",
     "iopub.status.busy": "2023-03-26T14:46:41.090248Z",
     "iopub.status.idle": "2023-03-26T14:46:41.790660Z",
     "shell.execute_reply": "2023-03-26T14:46:41.789348Z",
     "shell.execute_reply.started": "2023-03-26T14:46:41.090772Z"
    }
   },
   "outputs": [],
   "source": [
    "data.tag_id = data.tag_id.astype('category') #changing to categorical data\n",
    "data.time = pd.to_datetime(data.time)"
   ]
  },
  {
   "cell_type": "code",
   "execution_count": null,
   "metadata": {
    "execution": {
     "iopub.execute_input": "2023-03-26T14:46:41.795224Z",
     "iopub.status.busy": "2023-03-26T14:46:41.792042Z",
     "iopub.status.idle": "2023-03-26T14:46:41.813012Z",
     "shell.execute_reply": "2023-03-26T14:46:41.811783Z",
     "shell.execute_reply.started": "2023-03-26T14:46:41.795177Z"
    }
   },
   "outputs": [],
   "source": [
    "data.info()"
   ]
  },
  {
   "cell_type": "markdown",
   "metadata": {
    "id": "zi4W0f3Tuk_s"
   },
   "source": [
    "Removing Duplicate Entries"
   ]
  },
  {
   "cell_type": "markdown",
   "metadata": {},
   "source": [
    "total duplicate rows"
   ]
  },
  {
   "cell_type": "code",
   "execution_count": null,
   "metadata": {
    "execution": {
     "iopub.execute_input": "2023-03-26T14:46:41.816554Z",
     "iopub.status.busy": "2023-03-26T14:46:41.816007Z",
     "iopub.status.idle": "2023-03-26T14:46:42.497092Z",
     "shell.execute_reply": "2023-03-26T14:46:42.495906Z",
     "shell.execute_reply.started": "2023-03-26T14:46:41.816502Z"
    }
   },
   "outputs": [],
   "source": [
    "data.duplicated().sum()"
   ]
  },
  {
   "cell_type": "code",
   "execution_count": null,
   "metadata": {
    "execution": {
     "iopub.execute_input": "2023-03-26T14:46:42.499269Z",
     "iopub.status.busy": "2023-03-26T14:46:42.498909Z",
     "iopub.status.idle": "2023-03-26T14:46:43.272757Z",
     "shell.execute_reply": "2023-03-26T14:46:43.271366Z",
     "shell.execute_reply.started": "2023-03-26T14:46:42.499237Z"
    },
    "id": "MFZnLh2_bbdf"
   },
   "outputs": [],
   "source": [
    "data = data.drop_duplicates()"
   ]
  },
  {
   "cell_type": "markdown",
   "metadata": {
    "id": "JL2Xm8pldltc"
   },
   "source": [
    "Removing duplicate entries based on time."
   ]
  },
  {
   "cell_type": "code",
   "execution_count": null,
   "metadata": {
    "execution": {
     "iopub.execute_input": "2023-03-26T14:46:43.275024Z",
     "iopub.status.busy": "2023-03-26T14:46:43.274683Z",
     "iopub.status.idle": "2023-03-26T14:46:43.649540Z",
     "shell.execute_reply": "2023-03-26T14:46:43.648513Z",
     "shell.execute_reply.started": "2023-03-26T14:46:43.274991Z"
    },
    "id": "6KKtqRidF27S",
    "outputId": "93b42587-9834-47df-87c7-06631470ee11"
   },
   "outputs": [],
   "source": [
    "data.duplicated(subset=['time',\"tag_id\"]).sum()"
   ]
  },
  {
   "cell_type": "code",
   "execution_count": null,
   "metadata": {
    "execution": {
     "iopub.execute_input": "2023-03-26T14:46:43.653867Z",
     "iopub.status.busy": "2023-03-26T14:46:43.653505Z",
     "iopub.status.idle": "2023-03-26T14:46:44.044999Z",
     "shell.execute_reply": "2023-03-26T14:46:44.043808Z",
     "shell.execute_reply.started": "2023-03-26T14:46:43.653833Z"
    },
    "id": "UqzgSdVTGjoB",
    "outputId": "dd60883f-8389-4cea-9645-e73796ea1b6b"
   },
   "outputs": [],
   "source": [
    "print(data[data.duplicated(subset=['time',\"tag_id\"])]) #delete duplicate enteries with the same tag_id and timestamp"
   ]
  },
  {
   "cell_type": "code",
   "execution_count": null,
   "metadata": {
    "execution": {
     "iopub.execute_input": "2023-03-26T14:46:44.047327Z",
     "iopub.status.busy": "2023-03-26T14:46:44.046928Z",
     "iopub.status.idle": "2023-03-26T14:46:44.485149Z",
     "shell.execute_reply": "2023-03-26T14:46:44.483883Z",
     "shell.execute_reply.started": "2023-03-26T14:46:44.047289Z"
    },
    "id": "gjk_dwxxaa28"
   },
   "outputs": [],
   "source": [
    "data = data.drop_duplicates(subset=['time',\"tag_id\"], keep='first')"
   ]
  },
  {
   "cell_type": "code",
   "execution_count": null,
   "metadata": {
    "execution": {
     "iopub.execute_input": "2023-03-26T14:46:44.487797Z",
     "iopub.status.busy": "2023-03-26T14:46:44.487138Z",
     "iopub.status.idle": "2023-03-26T14:46:44.494018Z",
     "shell.execute_reply": "2023-03-26T14:46:44.493065Z",
     "shell.execute_reply.started": "2023-03-26T14:46:44.487758Z"
    }
   },
   "outputs": [],
   "source": [
    "def plotDataGermanStore1(ax, plotFunc = None):\n",
    "    bg_img = mpimg.imread('data/german_1/storePlan_fix.jpg')\n",
    "    \n",
    "    ax.xaxis.tick_top()\n",
    "\n",
    "    ax.imshow(bg_img, extent=[0, 45.6, 0, 26.7], origin=\"lower\", aspect=\"equal\")\n",
    "\n",
    "    ax.set_xlim(-1, 44.56)\n",
    "    ax.set_ylim(26.40, -1)"
   ]
  },
  {
   "cell_type": "code",
   "execution_count": null,
   "metadata": {
    "execution": {
     "iopub.execute_input": "2023-03-26T14:46:44.496241Z",
     "iopub.status.busy": "2023-03-26T14:46:44.495352Z",
     "iopub.status.idle": "2023-03-26T14:46:45.771799Z",
     "shell.execute_reply": "2023-03-26T14:46:45.770638Z",
     "shell.execute_reply.started": "2023-03-26T14:46:44.496204Z"
    }
   },
   "outputs": [],
   "source": [
    "fig, ax = plt.subplots(figsize=(12,6))\n",
    "\n",
    "plotDataGermanStore1(ax) #ploting raw data\n",
    "ax.scatter(data.x,data.y, s = 0.00005)\n",
    "plt.show()"
   ]
  },
  {
   "cell_type": "markdown",
   "metadata": {
    "id": "HAjZR9ildr5O"
   },
   "source": [
    "Describing the data"
   ]
  },
  {
   "cell_type": "code",
   "execution_count": null,
   "metadata": {
    "execution": {
     "iopub.execute_input": "2023-03-26T14:46:45.775130Z",
     "iopub.status.busy": "2023-03-26T14:46:45.773731Z",
     "iopub.status.idle": "2023-03-26T14:46:45.963672Z",
     "shell.execute_reply": "2023-03-26T14:46:45.962085Z",
     "shell.execute_reply.started": "2023-03-26T14:46:45.775061Z"
    },
    "id": "ufaTOEsOPr8B",
    "outputId": "73292f03-0400-41fe-f384-eec9ebce7e6a"
   },
   "outputs": [],
   "source": [
    "print(\"Description\")\n",
    "print(data.describe())"
   ]
  },
  {
   "cell_type": "markdown",
   "metadata": {
    "id": "fiQIv1rWeCOl"
   },
   "source": [
    "Describing data with non-negative values."
   ]
  },
  {
   "cell_type": "code",
   "execution_count": null,
   "metadata": {
    "execution": {
     "iopub.execute_input": "2023-03-26T14:46:45.965723Z",
     "iopub.status.busy": "2023-03-26T14:46:45.965307Z",
     "iopub.status.idle": "2023-03-26T14:46:46.053250Z",
     "shell.execute_reply": "2023-03-26T14:46:46.051743Z",
     "shell.execute_reply.started": "2023-03-26T14:46:45.965687Z"
    },
    "id": "0I1tsPOcd84g"
   },
   "outputs": [],
   "source": [
    "non_neg_data = data[(data['x'] >= 0) & (data['y'] >= 0)]"
   ]
  },
  {
   "cell_type": "code",
   "execution_count": null,
   "metadata": {
    "execution": {
     "iopub.execute_input": "2023-03-26T14:46:46.055105Z",
     "iopub.status.busy": "2023-03-26T14:46:46.054752Z",
     "iopub.status.idle": "2023-03-26T14:46:46.248413Z",
     "shell.execute_reply": "2023-03-26T14:46:46.246886Z",
     "shell.execute_reply.started": "2023-03-26T14:46:46.055071Z"
    },
    "id": "WgDGNgnAeL2O",
    "outputId": "8b99fa4b-bb2a-404e-c241-2ed8cc6b5512"
   },
   "outputs": [],
   "source": [
    "print(\"Description\")\n",
    "print(non_neg_data.describe())"
   ]
  },
  {
   "cell_type": "markdown",
   "metadata": {
    "id": "FXDTAoQoeaUQ"
   },
   "source": [
    "Printing the unique tag_id present in the dataset"
   ]
  },
  {
   "cell_type": "code",
   "execution_count": null,
   "metadata": {
    "execution": {
     "iopub.execute_input": "2023-03-26T14:46:46.251260Z",
     "iopub.status.busy": "2023-03-26T14:46:46.250770Z",
     "iopub.status.idle": "2023-03-26T14:46:46.274632Z",
     "shell.execute_reply": "2023-03-26T14:46:46.273178Z",
     "shell.execute_reply.started": "2023-03-26T14:46:46.251213Z"
    },
    "id": "w4UzrV5I0mRA",
    "outputId": "59254264-8458-41c5-892e-155b46466c67"
   },
   "outputs": [],
   "source": [
    "print(data['tag_id'].unique())"
   ]
  },
  {
   "cell_type": "code",
   "execution_count": null,
   "metadata": {
    "execution": {
     "iopub.execute_input": "2023-03-26T14:46:46.278012Z",
     "iopub.status.busy": "2023-03-26T14:46:46.277511Z",
     "iopub.status.idle": "2023-03-26T14:46:46.296025Z",
     "shell.execute_reply": "2023-03-26T14:46:46.294637Z",
     "shell.execute_reply.started": "2023-03-26T14:46:46.277960Z"
    },
    "id": "ka5mnyTBOiws",
    "outputId": "29d904c0-c16e-413c-cf65-784d216dd43f"
   },
   "outputs": [],
   "source": [
    "print(\"Unique tag_ids in this dataset are: \",data['tag_id'].unique().shape[0])"
   ]
  },
  {
   "cell_type": "markdown",
   "metadata": {
    "id": "0I6oLL01z8ir"
   },
   "source": [
    "Histograms for the coordinate values"
   ]
  },
  {
   "cell_type": "code",
   "execution_count": null,
   "metadata": {
    "execution": {
     "iopub.execute_input": "2023-03-26T14:46:46.298014Z",
     "iopub.status.busy": "2023-03-26T14:46:46.297659Z",
     "iopub.status.idle": "2023-03-26T14:46:48.660139Z",
     "shell.execute_reply": "2023-03-26T14:46:48.658718Z",
     "shell.execute_reply.started": "2023-03-26T14:46:46.297981Z"
    },
    "id": "t0CZ1BeyP_4j",
    "outputId": "856f9e03-a23f-4a08-fb69-5ed5c0e4024b"
   },
   "outputs": [],
   "source": [
    "plt.figure(figsize=(12,6))\n",
    "sns.histplot(data['x'])\n",
    "plt.show()"
   ]
  },
  {
   "cell_type": "code",
   "execution_count": null,
   "metadata": {
    "execution": {
     "iopub.execute_input": "2023-03-26T14:46:48.662159Z",
     "iopub.status.busy": "2023-03-26T14:46:48.661703Z",
     "iopub.status.idle": "2023-03-26T14:46:49.084293Z",
     "shell.execute_reply": "2023-03-26T14:46:49.083056Z",
     "shell.execute_reply.started": "2023-03-26T14:46:48.662122Z"
    },
    "id": "Y9ucbUTpcc4W",
    "outputId": "8151ec31-be9f-44c8-e06e-b081286d89b6"
   },
   "outputs": [],
   "source": [
    "negative_x = data[data['x'] < 0]\n",
    "\n",
    "fig, axs = plt.subplots(1, 2, figsize=(12, 6))\n",
    "\n",
    "sns.histplot(negative_x['x'], ax=axs[0])\n",
    "axs[0].set_title(\"Histogram of x coordinate for x < 0\")\n",
    "sns.histplot(negative_x['y'], ax=axs[1])\n",
    "axs[1].set_title(\"Histogram of y coordinate for x < 0\")\n",
    "\n",
    "plt.show()\n"
   ]
  },
  {
   "cell_type": "code",
   "execution_count": null,
   "metadata": {
    "execution": {
     "iopub.execute_input": "2023-03-26T14:46:49.085938Z",
     "iopub.status.busy": "2023-03-26T14:46:49.085572Z",
     "iopub.status.idle": "2023-03-26T14:46:51.340379Z",
     "shell.execute_reply": "2023-03-26T14:46:51.338845Z",
     "shell.execute_reply.started": "2023-03-26T14:46:49.085903Z"
    },
    "id": "BR_FIAahzmmA",
    "outputId": "65c1fbef-49fe-461f-f732-d0fac850733b"
   },
   "outputs": [],
   "source": [
    "plt.figure(figsize=(12, 6))\n",
    "sns.histplot(data['y'])\n",
    "plt.show()"
   ]
  },
  {
   "cell_type": "code",
   "execution_count": null,
   "metadata": {
    "execution": {
     "iopub.execute_input": "2023-03-26T14:46:51.343360Z",
     "iopub.status.busy": "2023-03-26T14:46:51.342336Z",
     "iopub.status.idle": "2023-03-26T14:46:51.809953Z",
     "shell.execute_reply": "2023-03-26T14:46:51.808539Z",
     "shell.execute_reply.started": "2023-03-26T14:46:51.343310Z"
    },
    "id": "p9obalCJc1Bk",
    "outputId": "a6b08931-6d82-4774-b52e-8eb4a76156fd"
   },
   "outputs": [],
   "source": [
    "negative_y = data[data['y'] < 0]\n",
    "\n",
    "fig, axs = plt.subplots(1, 2, figsize=(12, 6))\n",
    "\n",
    "sns.histplot(negative_y['x'], ax=axs[0])\n",
    "axs[0].set_title(\"Histogram of x coordinate for y < 0\")\n",
    "sns.histplot(negative_y['y'], ax=axs[1])\n",
    "axs[1].set_title(\"Histogram of y coordinate for y < 0\")\n",
    "\n",
    "plt.show()\n"
   ]
  },
  {
   "cell_type": "markdown",
   "metadata": {
    "id": "nDiCZHbaXgvZ"
   },
   "source": [
    "Scatter plots for understanding the distribution"
   ]
  },
  {
   "cell_type": "code",
   "execution_count": null,
   "metadata": {
    "execution": {
     "iopub.execute_input": "2023-03-26T14:46:51.812122Z",
     "iopub.status.busy": "2023-03-26T14:46:51.811768Z",
     "iopub.status.idle": "2023-03-26T14:46:53.047384Z",
     "shell.execute_reply": "2023-03-26T14:46:53.045964Z",
     "shell.execute_reply.started": "2023-03-26T14:46:51.812089Z"
    },
    "id": "NNGmbSWS0HQG",
    "outputId": "4cacf1b7-7a0b-4a73-a339-04ce058f81a3"
   },
   "outputs": [],
   "source": [
    "fig, ax = plt.subplots(figsize=(12,6))\n",
    "\n",
    "plotDataGermanStore1(ax) #ploting raw data\n",
    "ax.scatter(data.x,data.y, s = 0.00005)\n",
    "plt.show()"
   ]
  },
  {
   "cell_type": "markdown",
   "metadata": {
    "id": "WaxW4GvCXvGw"
   },
   "source": [
    "Scatter plot for x and y with different hue for tag_ids"
   ]
  },
  {
   "cell_type": "markdown",
   "metadata": {
    "id": "lhWsJKtUX3VB"
   },
   "source": [
    "Plotting separate for each tag_id"
   ]
  },
  {
   "cell_type": "code",
   "execution_count": null,
   "metadata": {
    "execution": {
     "iopub.execute_input": "2023-03-26T14:46:53.049754Z",
     "iopub.status.busy": "2023-03-26T14:46:53.049111Z",
     "iopub.status.idle": "2023-03-26T14:46:57.007100Z",
     "shell.execute_reply": "2023-03-26T14:46:57.006008Z",
     "shell.execute_reply.started": "2023-03-26T14:46:53.049690Z"
    },
    "id": "YR5jeLtVO5oj",
    "outputId": "3c2ceabc-f2bb-4cfc-d40f-a441037c113a"
   },
   "outputs": [],
   "source": [
    "tag_id_num = 6 #number of tag ids to make the graphs\n",
    "\n",
    "selected_tag_ids = np.random.choice(data['tag_id'].unique(), tag_id_num)\n",
    "\n",
    "fig, ax = plt.subplots(nrows=int(np.ceil(len(selected_tag_ids) / 2)), ncols=2, figsize=(20, 100/len(selected_tag_ids)))\n",
    "ax = ax.ravel()\n",
    "for i, tag_id in enumerate(selected_tag_ids):\n",
    "    plotDataGermanStore1(ax[i]) #ploting raw data\n",
    "    tag_data = data[data['tag_id'] == tag_id]\n",
    "    ax[i].scatter(x=tag_data.x, y=tag_data.y, s = 0.03, label=tag_id)\n",
    "    ax[i].set_title(\"Tag ID: \" + tag_id)\n",
    "plt.tight_layout()\n",
    "plt.show()"
   ]
  },
  {
   "cell_type": "markdown",
   "metadata": {
    "id": "VIDV-bB5JB9E"
   },
   "source": [
    "Generating independent files for each tag ids"
   ]
  },
  {
   "cell_type": "code",
   "execution_count": null,
   "metadata": {
    "execution": {
     "iopub.execute_input": "2023-03-26T14:46:57.012475Z",
     "iopub.status.busy": "2023-03-26T14:46:57.011463Z",
     "iopub.status.idle": "2023-03-26T14:47:04.873390Z",
     "shell.execute_reply": "2023-03-26T14:47:04.872115Z",
     "shell.execute_reply.started": "2023-03-26T14:46:57.012416Z"
    },
    "id": "9oIUBtG6_hvJ"
   },
   "outputs": [],
   "source": [
    "tag_ids = data['tag_id'].unique()\n",
    "# Iterating over all tag_ids to generate separate files\n",
    "for tag_id in tag_ids:\n",
    "    tag_data = data[data['tag_id'] == tag_id]\n",
    "    tag_data = tag_data.sort_values(by=\"time\")\n",
    "    tag_data.to_csv(f'{output_dir}/{tag_id}.txt', index=False)"
   ]
  },
  {
   "cell_type": "markdown",
   "metadata": {
    "id": "FaaL1R0WYA-A"
   },
   "source": [
    "Function to plot x, y coordinates for any tag_id on a particular date"
   ]
  },
  {
   "cell_type": "code",
   "execution_count": null,
   "metadata": {
    "execution": {
     "iopub.execute_input": "2023-03-26T14:47:04.875292Z",
     "iopub.status.busy": "2023-03-26T14:47:04.874925Z",
     "iopub.status.idle": "2023-03-26T14:47:04.884487Z",
     "shell.execute_reply": "2023-03-26T14:47:04.882681Z",
     "shell.execute_reply.started": "2023-03-26T14:47:04.875257Z"
    },
    "id": "GFpjinYzQHv0"
   },
   "outputs": [],
   "source": [
    "def plot_trajectory(tag_id, date, data):\n",
    "    filtered_data = data[(data['tag_id'] == tag_id) & (data['time'].dt.date == date)]\n",
    "    fig,ax = plt.subplots(figsize=(12,6))\n",
    "    plotDataGermanStore1(ax)\n",
    "    ax.scatter(filtered_data['x'], filtered_data['y'], s = 0.5)\n",
    "    ax.set_title(f'Trajectory for tag {tag_id} on {date}')\n",
    "    plt.show()"
   ]
  },
  {
   "cell_type": "code",
   "execution_count": null,
   "metadata": {
    "execution": {
     "iopub.execute_input": "2023-03-26T14:47:04.886329Z",
     "iopub.status.busy": "2023-03-26T14:47:04.885936Z",
     "iopub.status.idle": "2023-03-26T14:47:06.202352Z",
     "shell.execute_reply": "2023-03-26T14:47:06.200248Z",
     "shell.execute_reply.started": "2023-03-26T14:47:04.886293Z"
    },
    "id": "ixWDQX-BNuc9",
    "outputId": "8e79d848-331d-4f51-ad54-94378de62e88"
   },
   "outputs": [],
   "source": [
    "# setting variable for random display of data\n",
    "tag_id = \"0x00206001289E\"\n",
    "\n",
    "from datetime import date\n",
    "plot_trajectory(tag_id, date(2019,8,7), data)"
   ]
  },
  {
   "cell_type": "code",
   "execution_count": null,
   "metadata": {
    "execution": {
     "iopub.execute_input": "2023-03-26T14:47:06.204577Z",
     "iopub.status.busy": "2023-03-26T14:47:06.204000Z",
     "iopub.status.idle": "2023-03-26T14:47:06.215650Z",
     "shell.execute_reply": "2023-03-26T14:47:06.214247Z",
     "shell.execute_reply.started": "2023-03-26T14:47:06.204527Z"
    }
   },
   "outputs": [],
   "source": [
    "def getTrajectory(traj_data):\n",
    "    traj_data = traj_data.sort_values(by=\"time\")\n",
    "    fig,ax = plt.subplots(figsize=(12,6))\n",
    "    plotDataGermanStore1(ax)\n",
    "    \n",
    "    start = traj_data.iloc[0]\n",
    "    end = traj_data.iloc[-1]\n",
    "    \n",
    "    ax.plot(traj_data['x'], traj_data['y'])\n",
    "    \n",
    "    circle_start = plt.Circle((start[\"x\"],start[\"y\"]), 0.5, color=\"green\")\n",
    "    circle_end = plt.Circle((end[\"x\"],end[\"y\"]), 0.5, color=\"yellow\")\n",
    "    \n",
    "    ax.add_patch(circle_start)\n",
    "    ax.add_patch(circle_end)\n",
    "    \n",
    "    ax.set_title(f'Trajectory for tag {tag_id} on {traj_data[\"time\"].iloc(0)[0].date()}')\n",
    "    plt.show()"
   ]
  },
  {
   "cell_type": "code",
   "execution_count": null,
   "metadata": {
    "execution": {
     "iopub.execute_input": "2023-03-26T14:25:25.877531Z",
     "iopub.status.busy": "2023-03-26T14:25:25.877050Z",
     "iopub.status.idle": "2023-03-26T14:25:27.129702Z",
     "shell.execute_reply": "2023-03-26T14:25:27.128372Z",
     "shell.execute_reply.started": "2023-03-26T14:25:25.877495Z"
    }
   },
   "outputs": [],
   "source": [
    "getTrajectory(data[(data['tag_id'] == tag_id) & (data['time'].dt.date == date(2019,8,7))])"
   ]
  },
  {
   "cell_type": "markdown",
   "metadata": {
    "id": "e7gLl1hihKeU"
   },
   "source": [
    "Converting SVG file to PNG"
   ]
  },
  {
   "cell_type": "code",
   "execution_count": null,
   "metadata": {
    "execution": {
     "iopub.execute_input": "2023-03-20T00:19:51.566989Z",
     "iopub.status.busy": "2023-03-20T00:19:51.566221Z",
     "iopub.status.idle": "2023-03-20T00:20:03.866034Z",
     "shell.execute_reply": "2023-03-20T00:20:03.864613Z",
     "shell.execute_reply.started": "2023-03-20T00:19:51.566924Z"
    },
    "id": "sH4NJQ4RpKJ3"
   },
   "outputs": [],
   "source": [
    "!pip install svg.path"
   ]
  },
  {
   "cell_type": "code",
   "execution_count": null,
   "metadata": {
    "execution": {
     "iopub.execute_input": "2023-03-20T00:20:03.868471Z",
     "iopub.status.busy": "2023-03-20T00:20:03.868083Z",
     "iopub.status.idle": "2023-03-20T00:20:39.368129Z",
     "shell.execute_reply": "2023-03-20T00:20:39.366558Z",
     "shell.execute_reply.started": "2023-03-20T00:20:03.868434Z"
    },
    "id": "LxqGXGKApYj1"
   },
   "outputs": [],
   "source": [
    "pip install cairosvg"
   ]
  },
  {
   "cell_type": "code",
   "execution_count": null,
   "metadata": {
    "execution": {
     "iopub.execute_input": "2023-03-20T00:20:39.370537Z",
     "iopub.status.busy": "2023-03-20T00:20:39.369944Z",
     "iopub.status.idle": "2023-03-20T00:20:41.853371Z",
     "shell.execute_reply": "2023-03-20T00:20:41.851728Z",
     "shell.execute_reply.started": "2023-03-20T00:20:39.370498Z"
    },
    "id": "-CGtsvwZo2Z_"
   },
   "outputs": [],
   "source": [
    "from svg.path import parse_path\n",
    "import cairosvg\n",
    "\n",
    "def read_svg(svg_file):\n",
    "    with open(svg_file, 'r') as f:\n",
    "        svg_content = f.read()\n",
    "    return svg_content\n",
    "\n",
    "def convert_svg_to_image(svg_file, image_file):\n",
    "    svg_content = read_svg(svg_file)\n",
    "    cairosvg.svg2png(bytestring=svg_content, write_to=image_file)\n",
    "\n",
    "svg_file = \"/kaggle/input/indoor-store-trajectory-dataset/german_4/german_4.svg\"\n",
    "image_file = \"/kaggle/working/german_4.png\"\n",
    "convert_svg_to_image(svg_file, image_file)"
   ]
  },
  {
   "cell_type": "markdown",
   "metadata": {
    "id": "0SPvq9DbYx3z"
   },
   "source": [
    "Trajectory Analysis for each tag_id for plotting the negative values and their neighborhood values to understand the regional distribution"
   ]
  },
  {
   "cell_type": "code",
   "execution_count": null,
   "metadata": {
    "execution": {
     "iopub.execute_input": "2023-03-26T14:50:37.603055Z",
     "iopub.status.busy": "2023-03-26T14:50:37.602641Z",
     "iopub.status.idle": "2023-03-26T14:50:37.624759Z",
     "shell.execute_reply": "2023-03-26T14:50:37.622400Z",
     "shell.execute_reply.started": "2023-03-26T14:50:37.603023Z"
    },
    "id": "265KK6sH2Dzv"
   },
   "outputs": [],
   "source": [
    "'''\n",
    "Remarks: For this data needs to be sorted by time.\n",
    "'''\n",
    "def trajectory_analysis(data, window_size):\n",
    "    data = data.sort_values(by=\"time\")\n",
    "    # iterating over all the unique ids\n",
    "    for row, tag_id in enumerate(data['tag_id'].unique()):\n",
    "        # neighborhood points list\n",
    "        prev_neighbourhood_coords = []\n",
    "        next_neighbourhood_coords = []\n",
    "        _data = data[data[\"tag_id\"] == tag_id] #Bug: data was reinitialize with the filtered data\n",
    "        # negative coordinates list\n",
    "        negative_coords = []\n",
    "\n",
    "        for i in range(len(_data)):\n",
    "            if _data.iloc[i][\"x\"] < 0 or _data.iloc[i][\"y\"] < 0:\n",
    "                negative_coords.append((_data.iloc[i][\"x\"], _data.iloc[i][\"y\"]))\n",
    "                prev_neighbours = _data.iloc[i+1:min(i+window_size+1, len(_data))][[\"x\", \"y\"]]\n",
    "                next_neighbours = _data.iloc[max(0, i-window_size):i][[\"x\", \"y\"]]\n",
    "                prev_neighbourhood_coords.append(prev_neighbours.values.tolist())\n",
    "                next_neighbourhood_coords.append(next_neighbours.values.tolist())\n",
    "\n",
    "        prev_plotting_points = []\n",
    "        next_plotting_points = []\n",
    "\n",
    "        for x in prev_neighbourhood_coords:\n",
    "            for y in x:\n",
    "                prev_plotting_points.append(y)\n",
    "        for x in next_neighbourhood_coords:\n",
    "            for y in x:\n",
    "                next_plotting_points.append(y)\n",
    "\n",
    "        fig, ax = plt.subplots(1, 2, figsize= (30, 15))\n",
    "        # points previous to current point becoming negative\n",
    "        ax[0].scatter(_data['x'], _data['y'], c='blue', s = 0.5, label='All the points')\n",
    "        plotDataGermanStore1(ax[0])\n",
    "        ax[0].scatter([i[0] for i in prev_plotting_points], [i[1] for i in prev_plotting_points], c='red', label='Neighbourhood points')\n",
    "        ax[0].scatter([i[0] for i in negative_coords], [i[1] for i in negative_coords], c='yellow', label='All negative points')\n",
    "        ax[0].set_title(F'Previous neighbourhood points {tag_id} total points / negative points {len(_data), len(negative_coords)}')\n",
    "        ax[0].grid()\n",
    "        # points after to current point becoming negative\n",
    "        ax[1].scatter(_data['x'], _data['y'], c='blue',s=0.5, label='All the points')\n",
    "        plotDataGermanStore1(ax[1])\n",
    "        ax[1].scatter([i[0] for i in next_plotting_points], [i[1] for i in next_plotting_points], c='red', label='Neighbourhood points')\n",
    "        ax[1].scatter([i[0] for i in negative_coords], [i[1] for i in negative_coords], c='yellow', label='All negative points')\n",
    "        ax[1].set_title(F'Next neighbourhood points {tag_id} total points / negative points {len(_data), len(negative_coords)}')\n",
    "        ax[1].grid()\n",
    "        \n",
    "        plt.show()\n"
   ]
  },
  {
   "cell_type": "code",
   "execution_count": null,
   "metadata": {
    "execution": {
     "iopub.execute_input": "2023-03-26T14:50:44.146843Z",
     "iopub.status.busy": "2023-03-26T14:50:44.146413Z",
     "iopub.status.idle": "2023-03-26T15:03:54.086820Z",
     "shell.execute_reply": "2023-03-26T15:03:54.085349Z",
     "shell.execute_reply.started": "2023-03-26T14:50:44.146808Z"
    },
    "id": "ADAPtjOKw9BF",
    "outputId": "3e450722-7d3a-4b68-ee93-dd21e7fd181e"
   },
   "outputs": [],
   "source": [
    "%time trajectory_analysis(data, 2)"
   ]
  },
  {
   "cell_type": "code",
   "execution_count": null,
   "metadata": {
    "id": "HCQKW2Z0nmSR",
    "outputId": "c676b32d-6a1d-4be9-931e-93277a02f24c"
   },
   "outputs": [],
   "source": [
    "trajectory_analysis(data, 1)"
   ]
  },
  {
   "cell_type": "markdown",
   "metadata": {
    "id": "HTA5yLLzvmEa"
   },
   "source": [
    "Average consecutive area time spent in the negative area\n",
    "\n",
    "What is the distribution of the intervals betweeen times when the trajectories come to an end point.\n",
    "\n",
    "The typical are of end points/ start points lie between (x > 12 and y < 2.5) and (x < 2 and 2 < y < 7 or 12 < y < 18)"
   ]
  },
  {
   "cell_type": "markdown",
   "metadata": {
    "id": "5T9vw_fvjG62"
   },
   "source": [
    "A velocity column helps us figure out if the cart/basket is standing or moving by setting the threshold (considering the noise) which is an experimental value."
   ]
  },
  {
   "cell_type": "code",
   "execution_count": null,
   "metadata": {
    "id": "eIxeIeM1lkLJ"
   },
   "outputs": [],
   "source": [
    "from datetime import timedelta\n",
    "# velocity threshold is threshold for the tag_id to be considered resting\n",
    "# resting_threshold is the min waiting time that can be considered as resting taken as 1 second here\n",
    "def find_resting_time(data, tag_id, velocity_threshold, resting_threshold):\n",
    "    # Preprocessing the data\n",
    "    data = data[data['tag_id'] == tag_id].copy() # .copy is used to solve the 'SettingWithCopyWarning' warning\n",
    "    data['time'] = pd.to_datetime(data['time'], format='%Y-%m-%d %H:%M:%S')\n",
    "    data = data.sort_values(by='time', ascending=True)\n",
    "    # creating the velocity column and storing the values between the current and the previous data\n",
    "    data['velocity'] = ((data['x'].diff() ** 2 + data['y'].diff() ** 2) ** 0.5) / data['time'].diff().dt.total_seconds()\n",
    "    resting_periods = []\n",
    "    start_time = None\n",
    "    current_date = None\n",
    "    for i in range(len(data)):\n",
    "        # Change of date marks the end of the resting period\n",
    "        if data.iloc[i]['time'].date() != current_date:\n",
    "            if start_time is not None:\n",
    "                end_time = data.iloc[i-1]['time']\n",
    "                resting_periods.append((start_time, end_time))\n",
    "            current_date = None\n",
    "            start_time = None\n",
    "        # if velocity less than the threshold either wait to end or set start time\n",
    "        if data.iloc[i]['velocity'] < velocity_threshold:\n",
    "            if start_time is None:\n",
    "                start_time = data.iloc[i]['time']\n",
    "                current_date = data.iloc[i]['time'].date()\n",
    "        else: # if velocity is not less than threshold then mark this time as end_time\n",
    "            if start_time is not None:\n",
    "                end_time = data.iloc[i-1]['time']\n",
    "                if (pd.to_datetime(end_time) - pd.to_datetime(start_time)).total_seconds() > resting_threshold:\n",
    "                    resting_periods.append((start_time, end_time))\n",
    "                start_time = None\n",
    "    # finally if the last time is not ended then last data will be the end time\n",
    "    if start_time is not None:\n",
    "        end_time = data.iloc[-1]['time']\n",
    "        resting_periods.append((start_time, end_time))\n",
    "    return resting_periods"
   ]
  },
  {
   "cell_type": "code",
   "execution_count": null,
   "metadata": {
    "id": "5NthKQQj0z3T",
    "outputId": "04e9b4f3-b942-42f3-c1db-9ae2a8d74f40"
   },
   "outputs": [],
   "source": [
    "print(find_resting_time(data, tag_id, 0.2, 3))"
   ]
  },
  {
   "cell_type": "markdown",
   "metadata": {
    "id": "c0PI8eUlRbQp"
   },
   "source": [
    "Considering the neighbourbood points of the negative points as potential end points for trajectories."
   ]
  },
  {
   "cell_type": "code",
   "execution_count": null,
   "metadata": {
    "execution": {
     "iopub.execute_input": "2023-03-19T14:49:19.413440Z",
     "iopub.status.busy": "2023-03-19T14:49:19.412807Z",
     "iopub.status.idle": "2023-03-19T14:49:19.433772Z",
     "shell.execute_reply": "2023-03-19T14:49:19.432361Z",
     "shell.execute_reply.started": "2023-03-19T14:49:19.413376Z"
    },
    "id": "EJPz1Pr3l_FG"
   },
   "outputs": [],
   "source": [
    "import pandas as pd\n",
    "\n",
    "def trajectory_data_generation(data):\n",
    "    # Sort the dataset by time\n",
    "    data = data.sort_values(by='time', ascending = True)\n",
    "    \n",
    "    # Creating a new empty dataset to store the positive points\n",
    "    #new_data = pd.DataFrame(columns=['tag_id', 'time', 'x', 'y', 'trajectory_name'])\n",
    "    types = [\"start\", \"intermediate\", \"end\"]\n",
    "    \n",
    "    new_data_list = []\n",
    "    # Iterating over each tag_id\n",
    "    for tag_id in tqdm(data['tag_id'].unique()):\n",
    "        \n",
    "        tag_data = data[data['tag_id'] == tag_id]\n",
    "        \n",
    "        # Assigning the first point as the starting point\n",
    "        starting_point = (tag_data.iloc[0]['x'], tag_data.iloc[0]['y'])\n",
    "        trajectory_name = \"trajectory_1\"\n",
    "        state = 0\n",
    "        new_data_list.append({'tag_id': tag_id, 'time': tag_data.iloc[0]['time'], 'x': tag_data.iloc[0]['x'], 'y': tag_data.iloc[0]['y'], \"description\":tag_data.iloc[0][\"description\"], 'trajectory_name': trajectory_name, \"point_type\": types[state]})\n",
    "        \n",
    "        # Iterating over each data point for the current tag_id\n",
    "        \n",
    "        for i in tqdm(range(1, len(tag_data))):\n",
    "            prev_point = (tag_data.iloc[i-1]['x'], tag_data.iloc[i-1]['y'])\n",
    "            current_point = (tag_data.iloc[i]['x'], tag_data.iloc[i]['y'])\n",
    "            \n",
    "            # Check if the current point is negative\n",
    "            if (current_point[0] < 0 or current_point[1] < 0) and starting_point != None:\n",
    "                # Assign the prev_point as the end point and increase trajectory_name\n",
    "                end_point = prev_point\n",
    "                new_data_list.append({'tag_id': tag_id, 'time': tag_data.iloc[i-1]['time'], 'x': end_point[0], 'y': end_point[1], \"description\":tag_data.iloc[i][\"description\"], 'trajectory_name': trajectory_name, \"point_type\": types[2]})\n",
    "                trajectory_name = \"trajectory_\" + str(int(trajectory_name.split(\"_\")[1])+1)\n",
    "                starting_point = None\n",
    "            else:\n",
    "                # Add the current point to the new dataset with trajectory_name column\n",
    "                if starting_point != None:\n",
    "                    new_data_list.append({'tag_id': tag_id, 'time': tag_data.iloc[i]['time'], 'x': current_point[0], 'y': current_point[1], \"description\":tag_data.iloc[i][\"description\"], 'trajectory_name': trajectory_name, \"point_type\": types[1]})\n",
    "                elif current_point[0] > 0 and current_point[1] > 0:\n",
    "                    starting_point = current_point\n",
    "                    new_data_list.append({'tag_id': tag_id, 'time': tag_data.iloc[i]['time'], 'x': current_point[0], 'y': current_point[1], \"description\":tag_data.iloc[i][\"description\"], 'trajectory_name': trajectory_name, \"point_type\": types[0]})\n",
    "\n",
    "                \n",
    "    # Write the new dataset to a .txt file\n",
    "    new_data = pd.DataFrame.from_dict(new_data_list)\n",
    "    new_data.to_csv(path_new, sep=\";\", index=False)\n"
   ]
  },
  {
   "cell_type": "code",
   "execution_count": null,
   "metadata": {
    "execution": {
     "iopub.execute_input": "2023-03-19T14:49:19.436534Z",
     "iopub.status.busy": "2023-03-19T14:49:19.435962Z",
     "iopub.status.idle": "2023-03-19T14:58:46.019184Z",
     "shell.execute_reply": "2023-03-19T14:58:46.017340Z",
     "shell.execute_reply.started": "2023-03-19T14:49:19.436478Z"
    },
    "id": "8eq7lIdEb5wR"
   },
   "outputs": [],
   "source": [
    "trajectory_data_generation(data)"
   ]
  },
  {
   "cell_type": "code",
   "execution_count": null,
   "metadata": {
    "execution": {
     "iopub.status.busy": "2023-03-19T14:58:46.020639Z",
     "iopub.status.idle": "2023-03-19T14:58:46.021072Z",
     "shell.execute_reply": "2023-03-19T14:58:46.020892Z",
     "shell.execute_reply.started": "2023-03-19T14:58:46.020869Z"
    },
    "id": "zTTzwPZxR8YW"
   },
   "outputs": [],
   "source": [
    "import pandas as pd\n",
    "\n",
    "def trajectory_data_generation_without_resting(data):\n",
    "    # Sort the dataset by time\n",
    "    data = data.sort_values(by='time')\n",
    "    \n",
    "    # Create a new empty dataset to store the positive points\n",
    "    #new_data = pd.DataFrame(columns=['tag_id', 'time', 'x', 'y', 'trajectory_name'])\n",
    "    new_data_list = []\n",
    "    types = [\"start\", \"intermediate\", \"end\"]\n",
    "    \n",
    "    # Iterate over each tag_id\n",
    "    for tag_id in tqdm(data['tag_id'].unique()):\n",
    "        # finding resting periods to iterate over and exclude the points\n",
    "        resting_time = find_resting_time(data, tag_id, 0.5, 3)\n",
    "        resting_periods = [(pd.to_datetime(start, format='%Y-%m-%d %H:%M:%S'), pd.to_datetime(end, format='%Y-%m-%d %H:%M:%S')) for start, end in resting_time]\n",
    "        # Get all the data points for the current tag_id\n",
    "        tag_data = data[data['tag_id'] == tag_id]\n",
    "        \n",
    "        # Assigning the first point as the starting point\n",
    "        starting_point = (tag_data.iloc[0]['x'], tag_data.iloc[0]['y'])\n",
    "        trajectory_name = \"trajectory_1\"\n",
    "        state = 0\n",
    "        new_data_list.append({'tag_id': tag_id, 'time': tag_data.iloc[0]['time'], 'x': tag_data.iloc[0]['x'], 'y': tag_data.iloc[0]['y'], \"description\":tag_data.iloc[0][\"description\"], \n",
    "                              'trajectory_name': trajectory_name, \"point_type\": types[state]})\n",
    "        \n",
    "        # Iterating over each data point for the current tag_id\n",
    "        start_loc = 0\n",
    "        for i in tqdm(range(1, len(tag_data))):\n",
    "            # Skips allows to skip over the current points if it lies in the resting intervals\n",
    "            skip = False\n",
    "            prev_point = (tag_data.iloc[i-1]['x'], tag_data.iloc[i-1]['y'])\n",
    "            current_point = (tag_data.iloc[i]['x'], tag_data.iloc[i]['y'])\n",
    "            for start, end in resting_periods[start_loc:]:\n",
    "                # condition that current point lies in the interval\n",
    "                if start <= pd.to_datetime(tag_data.iloc[i]['time']) and pd.to_datetime(tag_data.iloc[i]['time']) <= end:\n",
    "                    skip = True\n",
    "                    break\n",
    "                # condition that point lies between the previous and the current interval\n",
    "                elif pd.to_datetime(tag_data.iloc[i]['time']) < start:\n",
    "                    break\n",
    "                start_loc += 1 # start_loc allows to optimize the above process by not doing redundant iterations\n",
    "\n",
    "            if skip:\n",
    "                # if point lies in the interval and if there is a continued trajectory then mark the end point as previous point\n",
    "                if starting_point != None:\n",
    "                    end_point = prev_point\n",
    "                    new_data_list.append({'tag_id': tag_id, 'time': tag_data.iloc[i-1]['time'], 'x': end_point[0], 'y': end_point[1], \n",
    "                                          \"description\":tag_data.iloc[i][\"description\"], 'trajectory_name': trajectory_name, \"point_type\": types[2]})\n",
    "                    trajectory_name = \"trajectory_\" + str(int(trajectory_name.split(\"_\")[1])+1)\n",
    "                    starting_point = None\n",
    "            else:\n",
    "                # Checking if the current point is negative\n",
    "                if (current_point[0] < 0 or current_point[1] < 0) and starting_point != None:\n",
    "                    # Assigning the prev_point as the end point and increase trajectory_name\n",
    "                    end_point = prev_point\n",
    "                    new_data_list.append({'tag_id': tag_id, 'time': tag_data.iloc[i-1]['time'], 'x': end_point[0], 'y': end_point[1], \n",
    "                                          \"description\":tag_data.iloc[i][\"description\"], 'trajectory_name': trajectory_name, \"point_type\": types[2]})\n",
    "                    trajectory_name = \"trajectory_\" + str(int(trajectory_name.split(\"_\")[1])+1)\n",
    "                    starting_point = None\n",
    "                else:\n",
    "                    # Adding the current point to the new dataset with trajectory_name column\n",
    "                    if starting_point != None:\n",
    "                        new_data_list.append({'tag_id': tag_id, 'time': tag_data.iloc[i]['time'], 'x': current_point[0], 'y': current_point[1], \n",
    "                                              \"description\":tag_data.iloc[i][\"description\"], 'trajectory_name': trajectory_name, \"point_type\": types[1]})\n",
    "                    elif current_point[0] > 0 and current_point[1] > 0:\n",
    "                        starting_point = current_point\n",
    "                        new_data_list.append({'tag_id': tag_id, 'time': tag_data.iloc[i]['time'], 'x': current_point[0], 'y': current_point[1], \n",
    "                                              \"description\":tag_data.iloc[i][\"description\"], 'trajectory_name': trajectory_name, \"point_type\": types[0]})\n",
    "\n",
    "                \n",
    "    # Writing the new dataset\n",
    "    new_data = pd.DataFrame.from_dict(new_data_list)\n",
    "    new_data.to_csv(path_new_without_rest, sep=\";\", index=False)\n"
   ]
  },
  {
   "cell_type": "code",
   "execution_count": null,
   "metadata": {
    "execution": {
     "iopub.status.busy": "2023-03-19T14:58:46.022109Z",
     "iopub.status.idle": "2023-03-19T14:58:46.022517Z",
     "shell.execute_reply": "2023-03-19T14:58:46.022345Z",
     "shell.execute_reply.started": "2023-03-19T14:58:46.022323Z"
    },
    "id": "hivPmOZzVZw3",
    "outputId": "4fe15fa6-064c-467b-d975-7f323b385c50"
   },
   "outputs": [],
   "source": [
    "data = pd.read_csv(path, sep=';')\n",
    "trajectory_data_generation_without_resting(data)"
   ]
  },
  {
   "cell_type": "markdown",
   "metadata": {
    "id": "3Ckp-ghUb-V_"
   },
   "source": [
    "Finding if there are loops in the trajectories"
   ]
  },
  {
   "cell_type": "code",
   "execution_count": null,
   "metadata": {
    "execution": {
     "iopub.status.busy": "2023-03-19T14:58:46.025070Z",
     "iopub.status.idle": "2023-03-19T14:58:46.026003Z",
     "shell.execute_reply": "2023-03-19T14:58:46.025704Z",
     "shell.execute_reply.started": "2023-03-19T14:58:46.025668Z"
    },
    "id": "EB0p_bg7E2jS"
   },
   "outputs": [],
   "source": [
    "import pandas as pd\n",
    "import numpy as np\n",
    "\n",
    "# Load the data into a pandas dataframe\n",
    "data = pd.read_csv(path_new, sep=';')\n",
    "\n",
    "# Group the data by trajectory name\n",
    "grouped = data.groupby('trajectory_name')\n",
    "\n",
    "# Check if the distance between any two points is less than the threshold\n",
    "threshold = 0.2\n",
    "\n",
    "# Create a log file to store loop details\n",
    "for tag_id in data[\"tag_id\"].unique():\n",
    "    with open(f\"/content/gdrive/MyDrive/data/german_4/german_4/{tag_id}_log.txt\", \"w\") as log_file:\n",
    "        log_file.write(\"trajectory_name, tag_id, start_point, end_point, intermediate_point, total_interval\\n\")\n",
    "        data = pd.read_csv(path_new, sep=';')\n",
    "        data = data[data[\"tag_id\"]==tag_id]\n",
    "        # Group the data by trajectory name\n",
    "        grouped = data.groupby('trajectory_name')\n",
    "\n",
    "        for name, group in tqdm(grouped):\n",
    "            loop_found = False\n",
    "            for i in range(len(group) - 1):\n",
    "                for j in range(i + 1, len(group)):\n",
    "                    dist = np.sqrt((group.iloc[i]['x'] - group.iloc[j]['x'])**2 + (group.iloc[i]['y'] - group.iloc[j]['y'])**2)\n",
    "                    if dist < threshold:\n",
    "                        loop_found = True\n",
    "                        start_point = f\"({group.iloc[i]['x']}, {group.iloc[i]['y']})\"\n",
    "                        end_point = f\"({group.iloc[j]['x']}, {group.iloc[j]['y']})\"\n",
    "                        intermediate_point = f\"({group.iloc[i:j]['x'].mean()}, {group.iloc[i:j]['y'].mean()})\"\n",
    "                        total_interval = (pd.to_datetime(group.iloc[j]['time'], format='%Y-%m-%d %H:%M:%S') - pd.to_datetime(group.iloc[i]['time'], format='%Y-%m-%d %H:%M:%S')).total_seconds()\n",
    "                        log_line = f\"{name}, {group.iloc[i]['tag_id']}, {start_point}, {end_point}, {intermediate_point}, {total_interval}\\n\"\n",
    "                        log_file.write(log_line)\n",
    "                if loop_found:\n",
    "                    break\n",
    "\n"
   ]
  },
  {
   "cell_type": "markdown",
   "metadata": {
    "id": "KHm8DRl5chXO"
   },
   "source": [
    "Plotting the animations for the obtained trajectories"
   ]
  },
  {
   "cell_type": "code",
   "execution_count": null,
   "metadata": {
    "execution": {
     "iopub.status.busy": "2023-03-19T14:58:46.027803Z",
     "iopub.status.idle": "2023-03-19T14:58:46.029037Z",
     "shell.execute_reply": "2023-03-19T14:58:46.028824Z",
     "shell.execute_reply.started": "2023-03-19T14:58:46.028798Z"
    },
    "id": "bJJbzw2V9lSC"
   },
   "outputs": [],
   "source": [
    "import pandas as pd\n",
    "import matplotlib.pyplot as plt\n",
    "from matplotlib import animation\n",
    "import numpy as np\n",
    "from IPython.core.interactiveshell import InteractiveShell\n",
    "InteractiveShell.ast_node_interactivity = \"all\"\n",
    "from IPython import display\n",
    "\n",
    "def create_gif(tag_id, trajectory_name, path):\n",
    "    data = pd.read_csv(path, sep=';')\n",
    "    filtered_data = data[(data['tag_id'] == tag_id) & (data['trajectory_name'] == trajectory_name)]\n",
    "    points = [(x,y) for x, y in zip(filtered_data['x'], filtered_data['y'])]\n",
    "    x = [point[0] for point in points]\n",
    "    y = [point[1] for point in points]\n",
    "\n",
    "    fig, ax = plt.subplots(figsize=(6, 6))\n",
    "    line, = ax.plot(x[0:1], y[0:1], color = 'grey' )\n",
    "    dot, = ax.plot(x[0], y[0], color = 'black', marker = 'o' )\n",
    "\n",
    "    ax.set_xlim([0,45])\n",
    "    ax.set_xlabel('x', fontsize = 14)\n",
    "    ax.set_ylim([0,45])\n",
    "    ax.set_ylabel('y', fontsize = 14)\n",
    "    ax.set_title(f'Relationship between x and y at step 0', fontsize=14)\n",
    "\n",
    "    def update_frame(t):\n",
    "        line.set_data(x[0:t+1], y[0:t+1])\n",
    "        dot.set_data(x[t], y[t])\n",
    "        ax.set_title(f'Relationship between x and y at step {t}', fontsize=14)\n",
    "        return line, dot\n",
    "\n",
    "    time = np.arange(len(x))\n",
    "    anim = animation.FuncAnimation(fig, update_frame, frames=time, interval=500)\n",
    "    anim.save(f'{tag_id}_{trajectory_name}.gif', writer='pillow')\n",
    "    plt.show()\n"
   ]
  },
  {
   "cell_type": "code",
   "execution_count": null,
   "metadata": {
    "execution": {
     "iopub.status.busy": "2023-03-19T14:58:46.030202Z",
     "iopub.status.idle": "2023-03-19T14:58:46.030611Z",
     "shell.execute_reply": "2023-03-19T14:58:46.030426Z",
     "shell.execute_reply.started": "2023-03-19T14:58:46.030405Z"
    },
    "id": "81Y7QB7tAnEL",
    "outputId": "84a8fc31-116c-4e4d-eec8-e08718f36784"
   },
   "outputs": [],
   "source": [
    "tag_id = \"0x002060002016\"\n",
    "trajectory_name = \"trajectory_1\"\n",
    "create_gif(tag_id, trajectory_name, path_new)"
   ]
  },
  {
   "cell_type": "code",
   "execution_count": null,
   "metadata": {
    "execution": {
     "iopub.status.busy": "2023-03-19T14:58:46.032478Z",
     "iopub.status.idle": "2023-03-19T14:58:46.032947Z",
     "shell.execute_reply": "2023-03-19T14:58:46.032764Z",
     "shell.execute_reply.started": "2023-03-19T14:58:46.032741Z"
    },
    "id": "VLy9K_TRA9wV",
    "outputId": "0b8b7889-ea66-4b31-88a6-66722e9f73e9"
   },
   "outputs": [],
   "source": [
    "with open(f'{tag_id}_{trajectory_name}.gif','rb') as f:\n",
    "        display.Image(data=f.read(), format='png')"
   ]
  },
  {
   "cell_type": "code",
   "execution_count": null,
   "metadata": {
    "execution": {
     "iopub.status.busy": "2023-03-19T14:58:46.034349Z",
     "iopub.status.idle": "2023-03-19T14:58:46.034743Z",
     "shell.execute_reply": "2023-03-19T14:58:46.034571Z",
     "shell.execute_reply.started": "2023-03-19T14:58:46.034549Z"
    },
    "id": "zqelznvFdD0d",
    "outputId": "b49d3810-e400-4110-e127-87103b0565ba"
   },
   "outputs": [],
   "source": [
    "tag_id = \"0x002060002016\"\n",
    "trajectory_name = \"trajectory_1\"\n",
    "create_gif(tag_id, trajectory_name, path_new_without_rest)"
   ]
  },
  {
   "cell_type": "code",
   "execution_count": null,
   "metadata": {
    "execution": {
     "iopub.status.busy": "2023-03-19T14:58:46.035943Z",
     "iopub.status.idle": "2023-03-19T14:58:46.036389Z",
     "shell.execute_reply": "2023-03-19T14:58:46.036204Z",
     "shell.execute_reply.started": "2023-03-19T14:58:46.036174Z"
    },
    "id": "aTU5JDQxfiUd",
    "outputId": "3068d461-979f-4158-8b76-4c16d33a64d2"
   },
   "outputs": [],
   "source": [
    "with open(f'{tag_id}_{trajectory_name}.gif','rb') as f:\n",
    "        display.Image(data=f.read(), format='png')"
   ]
  },
  {
   "cell_type": "markdown",
   "metadata": {
    "id": "Sjo4lVGmC5uh"
   },
   "source": [
    "Conclusion: The trajectories that exclude the resting time are shorter then the trajectories picked from the neighbourhood of the negative points, although the threshold values in the \"trajectory_data_generation_without_resting\" can be changed to make the trajectories longer."
   ]
  }
 ],
 "metadata": {
  "kernelspec": {
   "display_name": "env",
   "language": "python",
   "name": "env"
  },
  "language_info": {
   "codemirror_mode": {
    "name": "ipython",
    "version": 3
   },
   "file_extension": ".py",
   "mimetype": "text/x-python",
   "name": "python",
   "nbconvert_exporter": "python",
   "pygments_lexer": "ipython3",
   "version": "3.10.1"
  }
 },
 "nbformat": 4,
 "nbformat_minor": 4
}
