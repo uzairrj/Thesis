{
 "cells": [
  {
   "cell_type": "code",
   "execution_count": 1,
   "metadata": {},
   "outputs": [],
   "source": [
    "import pandas as pd\n",
    "import numpy as np\n",
    "import math"
   ]
  },
  {
   "cell_type": "code",
   "execution_count": 2,
   "metadata": {},
   "outputs": [],
   "source": [
    "\n",
    "df = pd.read_csv(\"D:\\Thesis\\output\\German1\\DATA_SMOOTH_TRAJECTORIES_0_118989.csv\", delimiter=\"\\t\", names= [\"time\",\"traj_id\",\"x\",\"y\"])"
   ]
  },
  {
   "cell_type": "code",
   "execution_count": 3,
   "metadata": {},
   "outputs": [],
   "source": [
    "df = df.sort_values(by=\"time\")"
   ]
  },
  {
   "cell_type": "code",
   "execution_count": 4,
   "metadata": {},
   "outputs": [],
   "source": [
    "rows = df.shape[0]"
   ]
  },
  {
   "attachments": {},
   "cell_type": "markdown",
   "metadata": {},
   "source": [
    "Spliting settings"
   ]
  },
  {
   "cell_type": "code",
   "execution_count": 5,
   "metadata": {},
   "outputs": [],
   "source": [
    "val_per = 0.1\n",
    "train_per = 0.7\n",
    "test_per = 0.2"
   ]
  },
  {
   "attachments": {},
   "cell_type": "markdown",
   "metadata": {},
   "source": [
    "Spliting the data"
   ]
  },
  {
   "cell_type": "code",
   "execution_count": 6,
   "metadata": {},
   "outputs": [],
   "source": [
    "train_rows = math.ceil(rows * train_per)\n",
    "val_rows = math.ceil(rows * val_per)\n",
    "test_rows = math.ceil(rows * test_per)"
   ]
  },
  {
   "cell_type": "code",
   "execution_count": 7,
   "metadata": {},
   "outputs": [],
   "source": [
    "df_train = df.iloc[:train_rows]\n",
    "df_val = df.iloc[train_rows+1: train_rows+val_rows]\n",
    "df_test = df.iloc[train_rows+val_rows+1: ]"
   ]
  },
  {
   "attachments": {},
   "cell_type": "markdown",
   "metadata": {},
   "source": [
    "Saving data"
   ]
  },
  {
   "cell_type": "code",
   "execution_count": 8,
   "metadata": {
    "vscode": {
     "languageId": "bat"
    }
   },
   "outputs": [
    {
     "name": "stderr",
     "output_type": "stream",
     "text": [
      "A subdirectory or file output\\German1_SPLIT already exists.\n"
     ]
    }
   ],
   "source": [
    "!mkdir output\\German1_SPLIT"
   ]
  },
  {
   "cell_type": "code",
   "execution_count": 9,
   "metadata": {},
   "outputs": [],
   "source": [
    "PATH = f\"output\\\\German1_SPLIT\\\\\"\n",
    "\n",
    "df_train.to_csv(f\"D:\\\\Thesis\\\\output\\\\German1_SPLIT\\\\train.txt\", sep=\"\\t\", header=False, index=False)\n",
    "df_val.to_csv(f\"D:\\\\Thesis\\\\output\\\\German1_SPLIT\\\\val.txt\", sep=\"\\t\", header=False, index=False)\n",
    "df_test.to_csv(f\"D:\\\\Thesis\\\\output\\\\German1_SPLIT\\\\test.txt\", sep=\"\\t\", header=False, index=False)"
   ]
  },
  {
   "cell_type": "code",
   "execution_count": null,
   "metadata": {},
   "outputs": [],
   "source": []
  }
 ],
 "metadata": {
  "kernelspec": {
   "display_name": "env",
   "language": "python",
   "name": "python3"
  },
  "language_info": {
   "codemirror_mode": {
    "name": "ipython",
    "version": 3
   },
   "file_extension": ".py",
   "mimetype": "text/x-python",
   "name": "python",
   "nbconvert_exporter": "python",
   "pygments_lexer": "ipython3",
   "version": "3.10.1"
  },
  "orig_nbformat": 4
 },
 "nbformat": 4,
 "nbformat_minor": 2
}
