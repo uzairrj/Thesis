{
 "cells": [
  {
   "cell_type": "code",
   "execution_count": 11,
   "metadata": {},
   "outputs": [],
   "source": [
    "import pandas as pd\n",
    "from matplotlib import pyplot as plt"
   ]
  },
  {
   "cell_type": "code",
   "execution_count": 5,
   "metadata": {},
   "outputs": [],
   "source": [
    "data = pd.read_csv(f\"D:/Thesis/data/SganDatasets/eth/train/biwi_hotel_train.txt\",delimiter=\"\\t\", names=[\"frame\",\"traj_id\",\"x\",\"y\"])"
   ]
  },
  {
   "cell_type": "code",
   "execution_count": 8,
   "metadata": {},
   "outputs": [
    {
     "data": {
      "text/html": [
       "<div>\n",
       "<style scoped>\n",
       "    .dataframe tbody tr th:only-of-type {\n",
       "        vertical-align: middle;\n",
       "    }\n",
       "\n",
       "    .dataframe tbody tr th {\n",
       "        vertical-align: top;\n",
       "    }\n",
       "\n",
       "    .dataframe thead th {\n",
       "        text-align: right;\n",
       "    }\n",
       "</style>\n",
       "<table border=\"1\" class=\"dataframe\">\n",
       "  <thead>\n",
       "    <tr style=\"text-align: right;\">\n",
       "      <th></th>\n",
       "      <th>frame</th>\n",
       "      <th>traj_id</th>\n",
       "      <th>x</th>\n",
       "      <th>y</th>\n",
       "    </tr>\n",
       "  </thead>\n",
       "  <tbody>\n",
       "    <tr>\n",
       "      <th>0</th>\n",
       "      <td>0.0</td>\n",
       "      <td>1.0</td>\n",
       "      <td>1.41</td>\n",
       "      <td>-5.68</td>\n",
       "    </tr>\n",
       "    <tr>\n",
       "      <th>1</th>\n",
       "      <td>0.0</td>\n",
       "      <td>2.0</td>\n",
       "      <td>0.51</td>\n",
       "      <td>-6.94</td>\n",
       "    </tr>\n",
       "    <tr>\n",
       "      <th>2</th>\n",
       "      <td>0.0</td>\n",
       "      <td>3.0</td>\n",
       "      <td>2.30</td>\n",
       "      <td>-4.59</td>\n",
       "    </tr>\n",
       "    <tr>\n",
       "      <th>3</th>\n",
       "      <td>0.0</td>\n",
       "      <td>4.0</td>\n",
       "      <td>2.74</td>\n",
       "      <td>-2.50</td>\n",
       "    </tr>\n",
       "    <tr>\n",
       "      <th>4</th>\n",
       "      <td>0.0</td>\n",
       "      <td>5.0</td>\n",
       "      <td>-1.59</td>\n",
       "      <td>0.93</td>\n",
       "    </tr>\n",
       "    <tr>\n",
       "      <th>...</th>\n",
       "      <td>...</td>\n",
       "      <td>...</td>\n",
       "      <td>...</td>\n",
       "      <td>...</td>\n",
       "    </tr>\n",
       "    <tr>\n",
       "      <th>4941</th>\n",
       "      <td>14380.0</td>\n",
       "      <td>333.0</td>\n",
       "      <td>-0.03</td>\n",
       "      <td>-3.94</td>\n",
       "    </tr>\n",
       "    <tr>\n",
       "      <th>4942</th>\n",
       "      <td>14380.0</td>\n",
       "      <td>334.0</td>\n",
       "      <td>0.92</td>\n",
       "      <td>-1.14</td>\n",
       "    </tr>\n",
       "    <tr>\n",
       "      <th>4943</th>\n",
       "      <td>14390.0</td>\n",
       "      <td>333.0</td>\n",
       "      <td>-0.19</td>\n",
       "      <td>-3.62</td>\n",
       "    </tr>\n",
       "    <tr>\n",
       "      <th>4944</th>\n",
       "      <td>14390.0</td>\n",
       "      <td>334.0</td>\n",
       "      <td>0.96</td>\n",
       "      <td>-1.74</td>\n",
       "    </tr>\n",
       "    <tr>\n",
       "      <th>4945</th>\n",
       "      <td>14390.0</td>\n",
       "      <td>335.0</td>\n",
       "      <td>1.09</td>\n",
       "      <td>2.95</td>\n",
       "    </tr>\n",
       "  </tbody>\n",
       "</table>\n",
       "<p>4946 rows × 4 columns</p>\n",
       "</div>"
      ],
      "text/plain": [
       "        frame  traj_id     x     y\n",
       "0         0.0      1.0  1.41 -5.68\n",
       "1         0.0      2.0  0.51 -6.94\n",
       "2         0.0      3.0  2.30 -4.59\n",
       "3         0.0      4.0  2.74 -2.50\n",
       "4         0.0      5.0 -1.59  0.93\n",
       "...       ...      ...   ...   ...\n",
       "4941  14380.0    333.0 -0.03 -3.94\n",
       "4942  14380.0    334.0  0.92 -1.14\n",
       "4943  14390.0    333.0 -0.19 -3.62\n",
       "4944  14390.0    334.0  0.96 -1.74\n",
       "4945  14390.0    335.0  1.09  2.95\n",
       "\n",
       "[4946 rows x 4 columns]"
      ]
     },
     "execution_count": 8,
     "metadata": {},
     "output_type": "execute_result"
    }
   ],
   "source": [
    "data"
   ]
  },
  {
   "cell_type": "code",
   "execution_count": 40,
   "metadata": {},
   "outputs": [
    {
     "data": {
      "text/plain": [
       "-3.25"
      ]
     },
     "execution_count": 40,
     "metadata": {},
     "output_type": "execute_result"
    }
   ],
   "source": [
    "data.x.min()"
   ]
  },
  {
   "cell_type": "code",
   "execution_count": 41,
   "metadata": {},
   "outputs": [
    {
     "data": {
      "text/plain": [
       "-10.21"
      ]
     },
     "execution_count": 41,
     "metadata": {},
     "output_type": "execute_result"
    }
   ],
   "source": [
    "data.y.min()"
   ]
  },
  {
   "cell_type": "code",
   "execution_count": 56,
   "metadata": {},
   "outputs": [],
   "source": [
    "def getTrajectory(traj_data, circle_radius):\n",
    "    traj_data = traj_data.sort_values(by=\"frame\")\n",
    "    \n",
    "    fig,ax = plt.subplots(figsize=(12,6))\n",
    "    \n",
    "    start = traj_data.iloc[0]\n",
    "    end = traj_data.iloc[-1]\n",
    "\n",
    "\n",
    "    square, = ax.plot(traj_data.x, traj_data.y, color = 'blue', marker = 's', markersize=3 )\n",
    "    ax.plot(traj_data['x'], traj_data['y'], color = 'black',  markersize=0.5) \n",
    "   \n",
    "    \n",
    "\n",
    "    circle_start = plt.Circle((start[\"x\"],start[\"y\"]), circle_radius, color=\"green\")\n",
    "    circle_end = plt.Circle((end[\"x\"],end[\"y\"]), circle_radius, color=\"yellow\")\n",
    "\n",
    "    \n",
    "    ax.add_patch(circle_start)\n",
    "    ax.add_patch(circle_end)\n",
    "\n",
    "    ax.set_aspect(\"equal\")\n",
    "    \n",
    "    ax.set_title(f'Trajectory for tag {traj_data.traj_id.iloc[0]}')\n",
    "    plt.show()"
   ]
  },
  {
   "cell_type": "code",
   "execution_count": 67,
   "metadata": {},
   "outputs": [
    {
     "data": {
      "image/png": "[encoded data removed]",
      "text/plain": [
       "<Figure size 1200x600 with 1 Axes>"
      ]
     },
     "metadata": {},
     "output_type": "display_data"
    }
   ],
   "source": [
    "getTrajectory(data[data.traj_id == 90],0.1)"
   ]
  },
  {
   "cell_type": "code",
   "execution_count": 58,
   "metadata": {},
   "outputs": [
    {
     "data": {
      "text/html": [
       "<div>\n",
       "<style scoped>\n",
       "    .dataframe tbody tr th:only-of-type {\n",
       "        vertical-align: middle;\n",
       "    }\n",
       "\n",
       "    .dataframe tbody tr th {\n",
       "        vertical-align: top;\n",
       "    }\n",
       "\n",
       "    .dataframe thead th {\n",
       "        text-align: right;\n",
       "    }\n",
       "</style>\n",
       "<table border=\"1\" class=\"dataframe\">\n",
       "  <thead>\n",
       "    <tr style=\"text-align: right;\">\n",
       "      <th></th>\n",
       "      <th>frame</th>\n",
       "      <th>traj_id</th>\n",
       "      <th>x</th>\n",
       "      <th>y</th>\n",
       "    </tr>\n",
       "  </thead>\n",
       "  <tbody>\n",
       "    <tr>\n",
       "      <th>366</th>\n",
       "      <td>720.0</td>\n",
       "      <td>30.0</td>\n",
       "      <td>-1.29</td>\n",
       "      <td>-7.53</td>\n",
       "    </tr>\n",
       "    <tr>\n",
       "      <th>371</th>\n",
       "      <td>730.0</td>\n",
       "      <td>30.0</td>\n",
       "      <td>-1.29</td>\n",
       "      <td>-7.53</td>\n",
       "    </tr>\n",
       "    <tr>\n",
       "      <th>376</th>\n",
       "      <td>740.0</td>\n",
       "      <td>30.0</td>\n",
       "      <td>-1.29</td>\n",
       "      <td>-7.53</td>\n",
       "    </tr>\n",
       "    <tr>\n",
       "      <th>381</th>\n",
       "      <td>750.0</td>\n",
       "      <td>30.0</td>\n",
       "      <td>-1.29</td>\n",
       "      <td>-7.53</td>\n",
       "    </tr>\n",
       "    <tr>\n",
       "      <th>386</th>\n",
       "      <td>760.0</td>\n",
       "      <td>30.0</td>\n",
       "      <td>-1.29</td>\n",
       "      <td>-7.53</td>\n",
       "    </tr>\n",
       "    <tr>\n",
       "      <th>391</th>\n",
       "      <td>770.0</td>\n",
       "      <td>30.0</td>\n",
       "      <td>-1.29</td>\n",
       "      <td>-7.53</td>\n",
       "    </tr>\n",
       "    <tr>\n",
       "      <th>396</th>\n",
       "      <td>780.0</td>\n",
       "      <td>30.0</td>\n",
       "      <td>-1.29</td>\n",
       "      <td>-7.53</td>\n",
       "    </tr>\n",
       "    <tr>\n",
       "      <th>401</th>\n",
       "      <td>790.0</td>\n",
       "      <td>30.0</td>\n",
       "      <td>-1.29</td>\n",
       "      <td>-7.53</td>\n",
       "    </tr>\n",
       "    <tr>\n",
       "      <th>406</th>\n",
       "      <td>800.0</td>\n",
       "      <td>30.0</td>\n",
       "      <td>-1.29</td>\n",
       "      <td>-7.53</td>\n",
       "    </tr>\n",
       "    <tr>\n",
       "      <th>408</th>\n",
       "      <td>810.0</td>\n",
       "      <td>30.0</td>\n",
       "      <td>-1.29</td>\n",
       "      <td>-7.53</td>\n",
       "    </tr>\n",
       "  </tbody>\n",
       "</table>\n",
       "</div>"
      ],
      "text/plain": [
       "     frame  traj_id     x     y\n",
       "366  720.0     30.0 -1.29 -7.53\n",
       "371  730.0     30.0 -1.29 -7.53\n",
       "376  740.0     30.0 -1.29 -7.53\n",
       "381  750.0     30.0 -1.29 -7.53\n",
       "386  760.0     30.0 -1.29 -7.53\n",
       "391  770.0     30.0 -1.29 -7.53\n",
       "396  780.0     30.0 -1.29 -7.53\n",
       "401  790.0     30.0 -1.29 -7.53\n",
       "406  800.0     30.0 -1.29 -7.53\n",
       "408  810.0     30.0 -1.29 -7.53"
      ]
     },
     "execution_count": 58,
     "metadata": {},
     "output_type": "execute_result"
    }
   ],
   "source": [
    "data[data.traj_id == 30]"
   ]
  },
  {
   "cell_type": "code",
   "execution_count": null,
   "metadata": {},
   "outputs": [],
   "source": []
  }
 ],
 "metadata": {
  "kernelspec": {
   "display_name": "env",
   "language": "python",
   "name": "python3"
  },
  "language_info": {
   "codemirror_mode": {
    "name": "ipython",
    "version": 3
   },
   "file_extension": ".py",
   "mimetype": "text/x-python",
   "name": "python",
   "nbconvert_exporter": "python",
   "pygments_lexer": "ipython3",
   "version": "3.10.1"
  },
  "orig_nbformat": 4
 },
 "nbformat": 4,
 "nbformat_minor": 2
}
