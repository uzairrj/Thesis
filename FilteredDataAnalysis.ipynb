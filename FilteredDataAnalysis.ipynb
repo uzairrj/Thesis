{
 "cells": [
  {
   "cell_type": "code",
   "execution_count": 28,
   "metadata": {},
   "outputs": [],
   "source": [
    "import pandas as pd\n",
    "import numpy as np\n",
    "import matplotlib.pyplot as plt\n",
    "import matplotlib.image as mpimg\n",
    "import matplotlib.animation as animation\n",
    "\n",
    "plt.rcParams[\"animation.html\"] = \"jshtml\"\n",
    "plt.rcParams[\"animation.embed_limit\"] = 500"
   ]
  },
  {
   "cell_type": "code",
   "execution_count": 13,
   "metadata": {},
   "outputs": [],
   "source": [
    "df = pd.read_csv(\"./output/resampling_upscale_0.0833333mins_20len_FORMATED.csv\",delimiter=\"\\t\", names=[\"time\",\"traj_id\",\"x\",\"y\"])"
   ]
  },
  {
   "cell_type": "code",
   "execution_count": 14,
   "metadata": {},
   "outputs": [
    {
     "data": {
      "text/html": [
       "<div>\n",
       "<style scoped>\n",
       "    .dataframe tbody tr th:only-of-type {\n",
       "        vertical-align: middle;\n",
       "    }\n",
       "\n",
       "    .dataframe tbody tr th {\n",
       "        vertical-align: top;\n",
       "    }\n",
       "\n",
       "    .dataframe thead th {\n",
       "        text-align: right;\n",
       "    }\n",
       "</style>\n",
       "<table border=\"1\" class=\"dataframe\">\n",
       "  <thead>\n",
       "    <tr style=\"text-align: right;\">\n",
       "      <th></th>\n",
       "      <th>time</th>\n",
       "      <th>traj_id</th>\n",
       "      <th>x</th>\n",
       "      <th>y</th>\n",
       "    </tr>\n",
       "  </thead>\n",
       "  <tbody>\n",
       "    <tr>\n",
       "      <th>0</th>\n",
       "      <td>0</td>\n",
       "      <td>1</td>\n",
       "      <td>8.560</td>\n",
       "      <td>10.440</td>\n",
       "    </tr>\n",
       "    <tr>\n",
       "      <th>1</th>\n",
       "      <td>1</td>\n",
       "      <td>1</td>\n",
       "      <td>7.510</td>\n",
       "      <td>10.505</td>\n",
       "    </tr>\n",
       "    <tr>\n",
       "      <th>2</th>\n",
       "      <td>2</td>\n",
       "      <td>1</td>\n",
       "      <td>6.460</td>\n",
       "      <td>10.570</td>\n",
       "    </tr>\n",
       "    <tr>\n",
       "      <th>3</th>\n",
       "      <td>3</td>\n",
       "      <td>1</td>\n",
       "      <td>5.790</td>\n",
       "      <td>10.560</td>\n",
       "    </tr>\n",
       "    <tr>\n",
       "      <th>4</th>\n",
       "      <td>4</td>\n",
       "      <td>1</td>\n",
       "      <td>4.865</td>\n",
       "      <td>10.545</td>\n",
       "    </tr>\n",
       "  </tbody>\n",
       "</table>\n",
       "</div>"
      ],
      "text/plain": [
       "   time  traj_id      x       y\n",
       "0     0        1  8.560  10.440\n",
       "1     1        1  7.510  10.505\n",
       "2     2        1  6.460  10.570\n",
       "3     3        1  5.790  10.560\n",
       "4     4        1  4.865  10.545"
      ]
     },
     "execution_count": 14,
     "metadata": {},
     "output_type": "execute_result"
    }
   ],
   "source": [
    "df.head()"
   ]
  },
  {
   "cell_type": "code",
   "execution_count": 22,
   "metadata": {},
   "outputs": [],
   "source": [
    "bg_store_img_metadata = {'path':\"./data/german_1/storePlan_fix.jpg\",'image_crop':[0, 45.6, 0, 26.7], \"x_lim\": (-1, 44.56), \"y_lim\" : (26.40, -1) }\n",
    "def putBgStoreImage(ax, plotFunc = None):\n",
    "    bg_img = mpimg.imread(bg_store_img_metadata[\"path\"])\n",
    "    \n",
    "    ax.xaxis.tick_top()\n",
    "\n",
    "    ax.imshow(bg_img, extent=bg_store_img_metadata[\"image_crop\"], origin=\"lower\", aspect=\"equal\")\n",
    "\n",
    "    ax.set_xlim(bg_store_img_metadata[\"x_lim\"])\n",
    "    ax.set_ylim(bg_store_img_metadata[\"y_lim\"])"
   ]
  },
  {
   "cell_type": "code",
   "execution_count": 32,
   "metadata": {},
   "outputs": [],
   "source": [
    "def trajectoryAnimation(traj_data):\n",
    "    traj_data = traj_data.sort_values(by=\"time\")\n",
    "    \n",
    "    fig, ax = plt.subplots(figsize=(12,6))\n",
    "    putBgStoreImage(ax)\n",
    "     \n",
    "    square, = ax.plot(traj_data.x.iloc[0], traj_data.y.iloc[0], color = 'blue', marker = 's', markersize=2 )\n",
    "    line, = ax.plot(traj_data.x.iloc[0:1], traj_data.y.iloc[0:1], color = 'grey' )\n",
    "    dot, = ax.plot(traj_data.x.iloc[0], traj_data.y.iloc[0], color = 'black', marker = 'o' )\n",
    "\n",
    "    def update_frame(t):\n",
    "        square.set_data([traj_data.x.iloc[0:t+1]], [traj_data.y.iloc[0:t+1]])\n",
    "        line.set_data([traj_data.x.iloc[0:t+1]], [traj_data.y.iloc[0:t+1]])\n",
    "        dot.set_data([traj_data.x.iloc[t]], [traj_data.y.iloc[t]])\n",
    "        ax.set_title(f'Relationship between x and y at step {t}', fontsize=14)\n",
    "        return square, line, dot\n",
    "    \n",
    "    time = np.arange(len(traj_data.x))\n",
    "    anim = animation.FuncAnimation(fig, update_frame, frames=time, interval=100)\n",
    "    \n",
    "    anim.save(f'./output/Gifs/{traj_data.traj_id.iloc[0]}_{traj_data.traj_id.iloc[0]}.gif', writer='pillow')\n",
    "    return anim"
   ]
  },
  {
   "cell_type": "code",
   "execution_count": null,
   "metadata": {},
   "outputs": [],
   "source": [
    "trajectoryAnimation(df[df.traj_id == 1])"
   ]
  },
  {
   "attachments": {},
   "cell_type": "markdown",
   "metadata": {},
   "source": [
    "*Data Filtering and Smoothing*"
   ]
  },
  {
   "cell_type": "code",
   "execution_count": null,
   "metadata": {},
   "outputs": [],
   "source": []
  }
 ],
 "metadata": {
  "kernelspec": {
   "display_name": "env",
   "language": "python",
   "name": "python3"
  },
  "language_info": {
   "codemirror_mode": {
    "name": "ipython",
    "version": 3
   },
   "file_extension": ".py",
   "mimetype": "text/x-python",
   "name": "python",
   "nbconvert_exporter": "python",
   "pygments_lexer": "ipython3",
   "version": "3.10.1"
  },
  "orig_nbformat": 4
 },
 "nbformat": 4,
 "nbformat_minor": 2
}
